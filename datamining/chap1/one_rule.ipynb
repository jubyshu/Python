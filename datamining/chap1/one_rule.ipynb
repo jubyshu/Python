{
 "cells": [
  {
   "cell_type": "code",
   "execution_count": 8,
   "metadata": {},
   "outputs": [],
   "source": [
    "import numpy as np\n",
    "from sklearn.datasets import load_iris\n",
    "\n",
    "dataset = load_iris()\n",
    "x = dataset.data\n",
    "y_true = dataset.target\n",
    "n_samples, n_features = x.shape\n",
    "# 计算每一项特征的平均值\n",
    "attribute_means = x.mean(axis=0)\n",
    "# 与平均值比较，大于等于的为“1”，小于的为“0”.将连续性的特征值变为离散性的类别型。\n",
    "x_d = np.array(x >= attribute_means, dtype=np.int)"
   ]
  },
  {
   "cell_type": "code",
   "execution_count": 9,
   "metadata": {},
   "outputs": [],
   "source": [
    "from sklearn.model_selection import train_test_split\n",
    "\n",
    "x_train, x_test, y_train, y_test = train_test_split(x_d, y_true, random_state=14)"
   ]
  },
  {
   "cell_type": "code",
   "execution_count": 18,
   "metadata": {},
   "outputs": [
    {
     "name": "stdout",
     "output_type": "stream",
     "text": [
      "(2, 22)\n",
      "(0, 19)\n"
     ]
    }
   ],
   "source": [
    "from operator import itemgetter\n",
    "from collections import  defaultdict\n",
    "\n",
    "def train_feature_value(x, y_true, feature, value):\n",
    "    '''找出某一特征下某一值最多的类别与错误'''\n",
    "    class_counts = defaultdict(int)\n",
    "    for sample, y in zip(x, y_true):\n",
    "        if sample[feature] == value:\n",
    "            class_counts[y] += 1\n",
    "    sorted_class_counts = sorted(class_counts.items(), key=itemgetter(1), reverse=True)\n",
    "    most_frequent_class = sorted_class_counts[0][0]\n",
    "    error = sum(class_count for class_value, class_count in class_counts.items()\n",
    "               if class_value != most_frequent_class)\n",
    "    return most_frequent_class, error\n",
    "print(train_feature_value(x_train, y_train, 0, 1))\n",
    "print(train_feature_value(x_train, y_train, 0, 0))"
   ]
  },
  {
   "cell_type": "code",
   "execution_count": 19,
   "metadata": {},
   "outputs": [
    {
     "name": "stdout",
     "output_type": "stream",
     "text": [
      "({0: 0, 1: 2}, 41)\n"
     ]
    }
   ],
   "source": [
    "def train_on_feature(x, y_true, feature):\n",
    "    '''找出错误最少的特征及该特征下各值所属的类别'''\n",
    "    values = set(x[:, feature])\n",
    "    predictors = {}\n",
    "    errors = []\n",
    "    \n",
    "    for current_value in values:\n",
    "        most_frequent_class, error = train_feature_value(x, y_true, feature, current_value)\n",
    "        predictors[current_value] = most_frequent_class\n",
    "        errors.append(error)\n",
    "    total_error = sum(errors)\n",
    "    return predictors, total_error    \n",
    "print(train_on_feature(x_train, y_train, 0))"
   ]
  },
  {
   "cell_type": "code",
   "execution_count": 20,
   "metadata": {},
   "outputs": [
    {
     "name": "stdout",
     "output_type": "stream",
     "text": [
      "{0: ({0: 0, 1: 2}, 41), 1: ({0: 1, 1: 0}, 58), 2: ({0: 0, 1: 2}, 37), 3: ({0: 0, 1: 2}, 37)}\n",
      "{0: 41, 1: 58, 2: 37, 3: 37}\n"
     ]
    }
   ],
   "source": [
    "# 找到所有特征下的各特征值的类别，\n",
    "# 格式就如：{0：({0: 0， 1: 2}， 41)}\n",
    "# 首先为一个字典，字典的键是某个特征，字典的值由一个集合构成，\n",
    "# 这个集合又是由一个字典和一个值组成，字典的键是特征值，字典的值为类别，最后一个单独的值是错误率。\n",
    "all_predictors = {feature: train_on_feature(x_train, y_train, feature)\n",
    "                  for feature in range(x_train.shape[1])}\n",
    "\n",
    "# 筛选出每个特征下的错误率出来\n",
    "errors = {feature: error for feature,(mapping, error) in all_predictors.items()}\n",
    "print(all_predictors)\n",
    "print(errors)"
   ]
  },
  {
   "cell_type": "code",
   "execution_count": 21,
   "metadata": {},
   "outputs": [
    {
     "name": "stdout",
     "output_type": "stream",
     "text": [
      "The best model is based on feature 2 and has error 37.00\n"
     ]
    }
   ],
   "source": [
    "# 对错误率排序，得到最优的特征和最低的错误率，以此为模型和规则。\n",
    "# 这就是One Rule（OneR）算法。\n",
    "best_feature, best_error = sorted(errors.items(), key=itemgetter(1))[0]\n",
    "print('The best model is based on feature {0} and has error {1:.2f}'\n",
    "      .format(best_feature, best_error))"
   ]
  },
  {
   "cell_type": "code",
   "execution_count": 22,
   "metadata": {},
   "outputs": [
    {
     "name": "stdout",
     "output_type": "stream",
     "text": [
      "{'feature': 2, 'predictor': {0: 0, 1: 2}}\n"
     ]
    }
   ],
   "source": [
    "# 建立模型\n",
    "model = {'feature': best_feature,\n",
    "        'predictor': all_predictors[best_feature][0]}\n",
    "print(model)"
   ]
  },
  {
   "cell_type": "code",
   "execution_count": 34,
   "metadata": {
    "scrolled": true
   },
   "outputs": [
    {
     "name": "stdout",
     "output_type": "stream",
     "text": [
      "[0 0 0 2 2 2 0 2 0 2 2 0 2 2 0 2 0 2 2 2 0 0 0 2 0 2 0 2 2 0 0 0 2 0 2 0 2\n",
      " 2]\n",
      "The test accuracy is 65.79%\n"
     ]
    }
   ],
   "source": [
    "# 开始测试——对最优特征下的特征值所属类别进行分类。\n",
    "def predict(x_test, model):\n",
    "    feature = model['feature']\n",
    "    predictor = model['predictor']\n",
    "    y_predicted = np.array([predictor[int(sample[feature])] for sample in x_test])\n",
    "    return y_predicted\n",
    "\n",
    "y_predicted = predict(x_test, model)\n",
    "print(y_predicted)\n",
    "\n",
    "# 在这个最优特征下，各特征值的所属类别与测试数据集相对比，得到准确率。\n",
    "accuracy = np.mean(y_predicted == y_test) * 100\n",
    "print('The test accuracy is {0:.2f}%'.format(accuracy))"
   ]
  },
  {
   "cell_type": "code",
   "execution_count": 38,
   "metadata": {},
   "outputs": [
    {
     "name": "stdout",
     "output_type": "stream",
     "text": [
      "             precision    recall  f1-score   support\n",
      "\n",
      "          0       0.94      1.00      0.97        17\n",
      "          1       0.00      0.00      0.00        13\n",
      "          2       0.40      1.00      0.57         8\n",
      "\n",
      "avg / total       0.51      0.66      0.55        38\n",
      "\n"
     ]
    },
    {
     "name": "stderr",
     "output_type": "stream",
     "text": [
      "/usr/local/lib/python3.6/site-packages/sklearn/metrics/classification.py:1135: UndefinedMetricWarning: Precision and F-score are ill-defined and being set to 0.0 in labels with no predicted samples.\n",
      "  'precision', 'predicted', average, warn_for)\n"
     ]
    }
   ],
   "source": [
    "from sklearn.metrics import classification_report\n",
    "\n",
    "print(classification_report(y_test, y_predicted))\n"
   ]
  },
  {
   "cell_type": "code",
   "execution_count": null,
   "metadata": {},
   "outputs": [],
   "source": []
  }
 ],
 "metadata": {
  "kernelspec": {
   "display_name": "Python 3",
   "language": "python",
   "name": "python3"
  },
  "language_info": {
   "codemirror_mode": {
    "name": "ipython",
    "version": 3
   },
   "file_extension": ".py",
   "mimetype": "text/x-python",
   "name": "python",
   "nbconvert_exporter": "python",
   "pygments_lexer": "ipython3",
   "version": "3.6.5"
  }
 },
 "nbformat": 4,
 "nbformat_minor": 2
}
