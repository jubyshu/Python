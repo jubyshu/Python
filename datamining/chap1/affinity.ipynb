{
 "cells": [
  {
   "cell_type": "code",
   "execution_count": 2,
   "metadata": {},
   "outputs": [
    {
     "name": "stdout",
     "output_type": "stream",
     "text": [
      "100 5\n",
      "[[0. 0. 1. 1. 1.]\n",
      " [1. 1. 0. 1. 0.]\n",
      " [1. 0. 1. 1. 0.]\n",
      " [0. 0. 1. 1. 1.]\n",
      " [0. 1. 0. 0. 1.]]\n"
     ]
    }
   ],
   "source": [
    "import numpy as np\n",
    "\n",
    "filename = 'affinity_dataset.txt'\n",
    "f = np.loadtxt(filename)\n",
    "n_samples, n_features = f.shape\n",
    "features = ['bread', 'milk', 'cheese', 'apple', 'banana']\n",
    "\n",
    "print(n_samples, n_features)\n",
    "print(f[:5])"
   ]
  },
  {
   "cell_type": "code",
   "execution_count": 2,
   "metadata": {},
   "outputs": [
    {
     "name": "stdout",
     "output_type": "stream",
     "text": [
      "36 people bought apples\n"
     ]
    }
   ],
   "source": [
    "apple_purchase = 0\n",
    "for sample in f:\n",
    "    if sample[3] == 1:\n",
    "        apple_purchase += 1\n",
    "print('%s people bought apples' % apple_purchase)"
   ]
  },
  {
   "cell_type": "code",
   "execution_count": 3,
   "metadata": {},
   "outputs": [],
   "source": [
    "# 首先为 规则应验 和 规则无效 两种情况创建字典\n",
    "# 字典的键是由条件和结论组成的元组\n",
    "# 比如（3, 4）表示“如果顾客购买了苹果，他们也会购买香蕉”\n",
    "from collections import defaultdict\n",
    "\n",
    "valid_rules = defaultdict(int)\n",
    "invalid_rules = defaultdict(int)\n",
    "num_occurances = defaultdict(int)"
   ]
  },
  {
   "cell_type": "code",
   "execution_count": 4,
   "metadata": {},
   "outputs": [],
   "source": [
    "# 计算所有可能的规则\n",
    "for sample in f:\n",
    "    # 预测条件\n",
    "    for premise in range(n_features):\n",
    "        if sample[premise] == 0:\n",
    "            continue\n",
    "        num_occurances[premise] += 1\n",
    "        for conclusion in range(n_features):\n",
    "            # 跳过条件与结论相同的情况\n",
    "            if premise == conclusion:\n",
    "                continue\n",
    "            if sample[conclusion] == 1:\n",
    "                valid_rules[(premise, conclusion)] += 1\n",
    "            else:\n",
    "                invalid_rules[(premise, conclusion)] += 1\n",
    "# 支持度为valid_rules\n",
    "# 置信度为valid_rules / num_occurances\n",
    "support = valid_rules\n",
    "confidence = defaultdict(float)\n",
    "for premise, conclusion in valid_rules.keys():\n",
    "    confidence[(premise, conclusion)] = valid_rules[(premise, conclusion)] / num_occurances[premise]"
   ]
  },
  {
   "cell_type": "code",
   "execution_count": 5,
   "metadata": {},
   "outputs": [],
   "source": [
    "def print_rule(premise, conclusion, support, confidence, features):\n",
    "#for premise, conclusion in confidence:\n",
    "    premise_name = features[premise]\n",
    "    conclusion_name = features[conclusion]\n",
    "    print('Rule: If a person buy %s he will also by %s' % (premise_name, conclusion_name))\n",
    "    print(' - confidence: %.3f' % confidence[(premise, conclusion)])\n",
    "    print(' - support: %d' % support[(premise, conclusion)])\n",
    "    print(' ')"
   ]
  },
  {
   "cell_type": "code",
   "execution_count": 6,
   "metadata": {},
   "outputs": [
    {
     "name": "stdout",
     "output_type": "stream",
     "text": [
      "Rule: If a person buy milk he will also by apple\n",
      " - confidence: 0.196\n",
      " - support: 9\n",
      " \n"
     ]
    }
   ],
   "source": [
    "premise = 1\n",
    "conclusion = 3\n",
    "print_rule(premise, conclusion, support, confidence, features)"
   ]
  },
  {
   "cell_type": "code",
   "execution_count": 7,
   "metadata": {},
   "outputs": [
    {
     "name": "stdout",
     "output_type": "stream",
     "text": [
      "[((2, 3), 25),\n",
      " ((2, 4), 27),\n",
      " ((3, 2), 25),\n",
      " ((3, 4), 21),\n",
      " ((4, 2), 27),\n",
      " ((4, 3), 21),\n",
      " ((0, 1), 14),\n",
      " ((0, 3), 5),\n",
      " ((1, 0), 14),\n",
      " ((1, 3), 9),\n",
      " ((3, 0), 5),\n",
      " ((3, 1), 9),\n",
      " ((0, 2), 4),\n",
      " ((2, 0), 4),\n",
      " ((1, 4), 19),\n",
      " ((4, 1), 19),\n",
      " ((0, 4), 17),\n",
      " ((4, 0), 17),\n",
      " ((1, 2), 7),\n",
      " ((2, 1), 7)]\n"
     ]
    }
   ],
   "source": [
    "from pprint import pprint\n",
    "pprint(list(support.items()))"
   ]
  },
  {
   "cell_type": "code",
   "execution_count": 10,
   "metadata": {},
   "outputs": [
    {
     "name": "stdout",
     "output_type": "stream",
     "text": [
      "Rule #1\n",
      "Rule: If a person buy cheese he will also by banana\n",
      " - confidence: 0.659\n",
      " - support: 27\n",
      " \n",
      "Rule #2\n",
      "Rule: If a person buy banana he will also by cheese\n",
      " - confidence: 0.458\n",
      " - support: 27\n",
      " \n",
      "Rule #3\n",
      "Rule: If a person buy cheese he will also by apple\n",
      " - confidence: 0.610\n",
      " - support: 25\n",
      " \n",
      "Rule #4\n",
      "Rule: If a person buy apple he will also by cheese\n",
      " - confidence: 0.694\n",
      " - support: 25\n",
      " \n",
      "Rule #5\n",
      "Rule: If a person buy apple he will also by banana\n",
      " - confidence: 0.583\n",
      " - support: 21\n",
      " \n"
     ]
    }
   ],
   "source": [
    "from operator import itemgetter\n",
    "sorted_support = sorted(support.items(), key=itemgetter(1), reverse=True)\n",
    "\n",
    "for index in range(5):\n",
    "    print('Rule #%d' % (index + 1))\n",
    "    (premise, conclusion) = sorted_support[index][0]\n",
    "    print_rule(premise, conclusion, support, confidence, features)"
   ]
  },
  {
   "cell_type": "code",
   "execution_count": 9,
   "metadata": {},
   "outputs": [
    {
     "name": "stdout",
     "output_type": "stream",
     "text": [
      "Rule #1\n",
      "Rule: If a person buy apple he will also by cheese\n",
      " - confidence: 0.694\n",
      " - support: 25\n",
      " \n",
      "Rule #2\n",
      "Rule: If a person buy cheese he will also by banana\n",
      " - confidence: 0.659\n",
      " - support: 27\n",
      " \n",
      "Rule #3\n",
      "Rule: If a person buy bread he will also by banana\n",
      " - confidence: 0.630\n",
      " - support: 17\n",
      " \n",
      "Rule #4\n",
      "Rule: If a person buy cheese he will also by apple\n",
      " - confidence: 0.610\n",
      " - support: 25\n",
      " \n",
      "Rule #5\n",
      "Rule: If a person buy apple he will also by banana\n",
      " - confidence: 0.583\n",
      " - support: 21\n",
      " \n"
     ]
    }
   ],
   "source": [
    "sorted_confidence = sorted(confidence.items(), key=itemgetter(1), reverse=True)\n",
    "\n",
    "for index in range(5):\n",
    "    print('Rule #%d' % (index + 1))\n",
    "    (premise, conclusion) = sorted_confidence[index][0]\n",
    "    print_rule(premise, conclusion, support, confidence, features)"
   ]
  },
  {
   "cell_type": "code",
   "execution_count": null,
   "metadata": {},
   "outputs": [],
   "source": []
  }
 ],
 "metadata": {
  "kernelspec": {
   "display_name": "Python 3",
   "language": "python",
   "name": "python3"
  },
  "language_info": {
   "codemirror_mode": {
    "name": "ipython",
    "version": 3
   },
   "file_extension": ".py",
   "mimetype": "text/x-python",
   "name": "python",
   "nbconvert_exporter": "python",
   "pygments_lexer": "ipython3",
   "version": "3.6.5"
  }
 },
 "nbformat": 4,
 "nbformat_minor": 2
}
