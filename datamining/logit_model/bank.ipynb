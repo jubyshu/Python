{
 "cells": [
  {
   "cell_type": "code",
   "execution_count": null,
   "metadata": {},
   "outputs": [],
   "source": [
    "# Building A Logistic Regression in Python, Step by Step\n",
    "# https://towardsdatascience.com/building-a-logistic-regression-in-python-step-by-step-becd4d56c9c8"
   ]
  },
  {
   "cell_type": "code",
   "execution_count": 1,
   "metadata": {},
   "outputs": [],
   "source": [
    "import numpy as np\n",
    "import pandas as pd\n",
    "import matplotlib.pyplot as plt\n",
    "plt.rc('font', size=14)\n",
    "import seaborn as sns\n",
    "sns.set(style='white')\n",
    "sns.set(style='whitegrid', color_codes=True)\n",
    "from sklearn import preprocessing\n",
    "from sklearn.linear_model import LogisticRegression\n",
    "from sklearn.model_selection import train_test_split"
   ]
  },
  {
   "cell_type": "code",
   "execution_count": 2,
   "metadata": {},
   "outputs": [
    {
     "data": {
      "text/html": [
       "<div>\n",
       "<style scoped>\n",
       "    .dataframe tbody tr th:only-of-type {\n",
       "        vertical-align: middle;\n",
       "    }\n",
       "\n",
       "    .dataframe tbody tr th {\n",
       "        vertical-align: top;\n",
       "    }\n",
       "\n",
       "    .dataframe thead th {\n",
       "        text-align: right;\n",
       "    }\n",
       "</style>\n",
       "<table border=\"1\" class=\"dataframe\">\n",
       "  <thead>\n",
       "    <tr style=\"text-align: right;\">\n",
       "      <th></th>\n",
       "      <th>age</th>\n",
       "      <th>job</th>\n",
       "      <th>marital</th>\n",
       "      <th>education</th>\n",
       "      <th>default</th>\n",
       "      <th>housing</th>\n",
       "      <th>loan</th>\n",
       "      <th>contact</th>\n",
       "      <th>month</th>\n",
       "      <th>day_of_week</th>\n",
       "      <th>...</th>\n",
       "      <th>campaign</th>\n",
       "      <th>pdays</th>\n",
       "      <th>previous</th>\n",
       "      <th>poutcome</th>\n",
       "      <th>emp_var_rate</th>\n",
       "      <th>cons_price_idx</th>\n",
       "      <th>cons_conf_idx</th>\n",
       "      <th>euribor3m</th>\n",
       "      <th>nr_employed</th>\n",
       "      <th>y</th>\n",
       "    </tr>\n",
       "  </thead>\n",
       "  <tbody>\n",
       "    <tr>\n",
       "      <th>0</th>\n",
       "      <td>44</td>\n",
       "      <td>blue-collar</td>\n",
       "      <td>married</td>\n",
       "      <td>basic.4y</td>\n",
       "      <td>unknown</td>\n",
       "      <td>yes</td>\n",
       "      <td>no</td>\n",
       "      <td>cellular</td>\n",
       "      <td>aug</td>\n",
       "      <td>thu</td>\n",
       "      <td>...</td>\n",
       "      <td>1.0</td>\n",
       "      <td>999.0</td>\n",
       "      <td>0.0</td>\n",
       "      <td>nonexistent</td>\n",
       "      <td>1.4</td>\n",
       "      <td>93.444</td>\n",
       "      <td>-36.1</td>\n",
       "      <td>4.963</td>\n",
       "      <td>5228.1</td>\n",
       "      <td>0.0</td>\n",
       "    </tr>\n",
       "    <tr>\n",
       "      <th>1</th>\n",
       "      <td>53</td>\n",
       "      <td>technician</td>\n",
       "      <td>married</td>\n",
       "      <td>unknown</td>\n",
       "      <td>no</td>\n",
       "      <td>no</td>\n",
       "      <td>no</td>\n",
       "      <td>cellular</td>\n",
       "      <td>nov</td>\n",
       "      <td>fri</td>\n",
       "      <td>...</td>\n",
       "      <td>1.0</td>\n",
       "      <td>999.0</td>\n",
       "      <td>0.0</td>\n",
       "      <td>nonexistent</td>\n",
       "      <td>-0.1</td>\n",
       "      <td>93.200</td>\n",
       "      <td>-42.0</td>\n",
       "      <td>4.021</td>\n",
       "      <td>5195.8</td>\n",
       "      <td>0.0</td>\n",
       "    </tr>\n",
       "    <tr>\n",
       "      <th>2</th>\n",
       "      <td>28</td>\n",
       "      <td>management</td>\n",
       "      <td>single</td>\n",
       "      <td>university.degree</td>\n",
       "      <td>no</td>\n",
       "      <td>yes</td>\n",
       "      <td>no</td>\n",
       "      <td>cellular</td>\n",
       "      <td>jun</td>\n",
       "      <td>thu</td>\n",
       "      <td>...</td>\n",
       "      <td>3.0</td>\n",
       "      <td>6.0</td>\n",
       "      <td>2.0</td>\n",
       "      <td>success</td>\n",
       "      <td>-1.7</td>\n",
       "      <td>94.055</td>\n",
       "      <td>-39.8</td>\n",
       "      <td>0.729</td>\n",
       "      <td>4991.6</td>\n",
       "      <td>1.0</td>\n",
       "    </tr>\n",
       "    <tr>\n",
       "      <th>3</th>\n",
       "      <td>39</td>\n",
       "      <td>services</td>\n",
       "      <td>married</td>\n",
       "      <td>high.school</td>\n",
       "      <td>no</td>\n",
       "      <td>no</td>\n",
       "      <td>no</td>\n",
       "      <td>cellular</td>\n",
       "      <td>apr</td>\n",
       "      <td>fri</td>\n",
       "      <td>...</td>\n",
       "      <td>2.0</td>\n",
       "      <td>999.0</td>\n",
       "      <td>0.0</td>\n",
       "      <td>nonexistent</td>\n",
       "      <td>-1.8</td>\n",
       "      <td>93.075</td>\n",
       "      <td>-47.1</td>\n",
       "      <td>1.405</td>\n",
       "      <td>5099.1</td>\n",
       "      <td>0.0</td>\n",
       "    </tr>\n",
       "    <tr>\n",
       "      <th>4</th>\n",
       "      <td>55</td>\n",
       "      <td>retired</td>\n",
       "      <td>married</td>\n",
       "      <td>basic.4y</td>\n",
       "      <td>no</td>\n",
       "      <td>yes</td>\n",
       "      <td>no</td>\n",
       "      <td>cellular</td>\n",
       "      <td>aug</td>\n",
       "      <td>fri</td>\n",
       "      <td>...</td>\n",
       "      <td>1.0</td>\n",
       "      <td>3.0</td>\n",
       "      <td>1.0</td>\n",
       "      <td>success</td>\n",
       "      <td>-2.9</td>\n",
       "      <td>92.201</td>\n",
       "      <td>-31.4</td>\n",
       "      <td>0.869</td>\n",
       "      <td>5076.2</td>\n",
       "      <td>1.0</td>\n",
       "    </tr>\n",
       "  </tbody>\n",
       "</table>\n",
       "<p>5 rows × 21 columns</p>\n",
       "</div>"
      ],
      "text/plain": [
       "   age          job  marital          education  default housing loan  \\\n",
       "0   44  blue-collar  married           basic.4y  unknown     yes   no   \n",
       "1   53   technician  married            unknown       no      no   no   \n",
       "2   28   management   single  university.degree       no     yes   no   \n",
       "3   39     services  married        high.school       no      no   no   \n",
       "4   55      retired  married           basic.4y       no     yes   no   \n",
       "\n",
       "    contact month day_of_week ...   campaign  pdays  previous     poutcome  \\\n",
       "0  cellular   aug         thu ...        1.0  999.0       0.0  nonexistent   \n",
       "1  cellular   nov         fri ...        1.0  999.0       0.0  nonexistent   \n",
       "2  cellular   jun         thu ...        3.0    6.0       2.0      success   \n",
       "3  cellular   apr         fri ...        2.0  999.0       0.0  nonexistent   \n",
       "4  cellular   aug         fri ...        1.0    3.0       1.0      success   \n",
       "\n",
       "  emp_var_rate  cons_price_idx  cons_conf_idx  euribor3m  nr_employed    y  \n",
       "0          1.4          93.444          -36.1      4.963       5228.1  0.0  \n",
       "1         -0.1          93.200          -42.0      4.021       5195.8  0.0  \n",
       "2         -1.7          94.055          -39.8      0.729       4991.6  1.0  \n",
       "3         -1.8          93.075          -47.1      1.405       5099.1  0.0  \n",
       "4         -2.9          92.201          -31.4      0.869       5076.2  1.0  \n",
       "\n",
       "[5 rows x 21 columns]"
      ]
     },
     "execution_count": 2,
     "metadata": {},
     "output_type": "execute_result"
    }
   ],
   "source": [
    "data = pd.read_csv('bank.csv', header=0)\n",
    "data = data.dropna()\n",
    "data.head()"
   ]
  },
  {
   "cell_type": "code",
   "execution_count": 3,
   "metadata": {},
   "outputs": [
    {
     "name": "stdout",
     "output_type": "stream",
     "text": [
      "(18928, 21)\n",
      "['age' 'job' 'marital' 'education' 'default' 'housing' 'loan' 'contact'\n",
      " 'month' 'day_of_week' 'duration' 'campaign' 'pdays' 'previous' 'poutcome'\n",
      " 'emp_var_rate' 'cons_price_idx' 'cons_conf_idx' 'euribor3m' 'nr_employed'\n",
      " 'y']\n"
     ]
    }
   ],
   "source": [
    "print(data.shape)\n",
    "print(data.columns.values)"
   ]
  },
  {
   "cell_type": "code",
   "execution_count": 4,
   "metadata": {},
   "outputs": [
    {
     "data": {
      "text/plain": [
       "array(['basic.4y', 'unknown', 'university.degree', 'high.school',\n",
       "       'basic.9y', 'professional.course', 'basic.6y', 'illiterate'],\n",
       "      dtype=object)"
      ]
     },
     "execution_count": 4,
     "metadata": {},
     "output_type": "execute_result"
    }
   ],
   "source": [
    "data['education'].unique()"
   ]
  },
  {
   "cell_type": "code",
   "execution_count": 5,
   "metadata": {},
   "outputs": [],
   "source": [
    "# group 'basic.4y', 'basic.6y', 'basic.9y' as 'basic'\n",
    "data['education'] = np.where(data['education'] == 'basic.4y', 'basic', data['education'])\n",
    "data['education'] = np.where(data['education'] == 'basic.6y', 'basic', data['education'])\n",
    "data['education'] = np.where(data['education'] == 'basic.9y', 'basic', data['education'])"
   ]
  },
  {
   "cell_type": "code",
   "execution_count": 6,
   "metadata": {},
   "outputs": [
    {
     "data": {
      "text/plain": [
       "array(['basic', 'unknown', 'university.degree', 'high.school',\n",
       "       'professional.course', 'illiterate'], dtype=object)"
      ]
     },
     "execution_count": 6,
     "metadata": {},
     "output_type": "execute_result"
    }
   ],
   "source": [
    "data['education'].unique()"
   ]
  },
  {
   "cell_type": "code",
   "execution_count": 7,
   "metadata": {},
   "outputs": [
    {
     "data": {
      "text/plain": [
       "0.0    16757\n",
       "1.0     2171\n",
       "Name: y, dtype: int64"
      ]
     },
     "execution_count": 7,
     "metadata": {},
     "output_type": "execute_result"
    }
   ],
   "source": [
    "# y — has the client subscribed a term deposit? \n",
    "data['y'].value_counts()"
   ]
  },
  {
   "cell_type": "code",
   "execution_count": 8,
   "metadata": {},
   "outputs": [
    {
     "data": {
      "text/plain": [
       "<matplotlib.axes._subplots.AxesSubplot at 0x113fdf438>"
      ]
     },
     "execution_count": 8,
     "metadata": {},
     "output_type": "execute_result"
    },
    {
     "data": {
      "image/png": "[encoded data removed]",
      "text/plain": [
       "<Figure size 432x288 with 1 Axes>"
      ]
     },
     "metadata": {},
     "output_type": "display_data"
    }
   ],
   "source": [
    "sns.countplot(x='y', data=data, palette='hls')"
   ]
  },
  {
   "cell_type": "code",
   "execution_count": 9,
   "metadata": {},
   "outputs": [
    {
     "data": {
      "text/html": [
       "<div>\n",
       "<style scoped>\n",
       "    .dataframe tbody tr th:only-of-type {\n",
       "        vertical-align: middle;\n",
       "    }\n",
       "\n",
       "    .dataframe tbody tr th {\n",
       "        vertical-align: top;\n",
       "    }\n",
       "\n",
       "    .dataframe thead th {\n",
       "        text-align: right;\n",
       "    }\n",
       "</style>\n",
       "<table border=\"1\" class=\"dataframe\">\n",
       "  <thead>\n",
       "    <tr style=\"text-align: right;\">\n",
       "      <th></th>\n",
       "      <th>age</th>\n",
       "      <th>duration</th>\n",
       "      <th>campaign</th>\n",
       "      <th>pdays</th>\n",
       "      <th>previous</th>\n",
       "      <th>emp_var_rate</th>\n",
       "      <th>cons_price_idx</th>\n",
       "      <th>cons_conf_idx</th>\n",
       "      <th>euribor3m</th>\n",
       "      <th>nr_employed</th>\n",
       "    </tr>\n",
       "    <tr>\n",
       "      <th>y</th>\n",
       "      <th></th>\n",
       "      <th></th>\n",
       "      <th></th>\n",
       "      <th></th>\n",
       "      <th></th>\n",
       "      <th></th>\n",
       "      <th></th>\n",
       "      <th></th>\n",
       "      <th></th>\n",
       "      <th></th>\n",
       "    </tr>\n",
       "  </thead>\n",
       "  <tbody>\n",
       "    <tr>\n",
       "      <th>0.0</th>\n",
       "      <td>39.848183</td>\n",
       "      <td>220.276183</td>\n",
       "      <td>2.624754</td>\n",
       "      <td>985.083607</td>\n",
       "      <td>0.133914</td>\n",
       "      <td>0.243104</td>\n",
       "      <td>93.604768</td>\n",
       "      <td>-40.563251</td>\n",
       "      <td>3.802752</td>\n",
       "      <td>5175.667220</td>\n",
       "    </tr>\n",
       "    <tr>\n",
       "      <th>1.0</th>\n",
       "      <td>40.851681</td>\n",
       "      <td>553.129894</td>\n",
       "      <td>2.030861</td>\n",
       "      <td>787.198526</td>\n",
       "      <td>0.504376</td>\n",
       "      <td>-1.230309</td>\n",
       "      <td>93.374348</td>\n",
       "      <td>-39.974620</td>\n",
       "      <td>2.107931</td>\n",
       "      <td>5093.995256</td>\n",
       "    </tr>\n",
       "  </tbody>\n",
       "</table>\n",
       "</div>"
      ],
      "text/plain": [
       "           age    duration  campaign       pdays  previous  emp_var_rate  \\\n",
       "y                                                                          \n",
       "0.0  39.848183  220.276183  2.624754  985.083607  0.133914      0.243104   \n",
       "1.0  40.851681  553.129894  2.030861  787.198526  0.504376     -1.230309   \n",
       "\n",
       "     cons_price_idx  cons_conf_idx  euribor3m  nr_employed  \n",
       "y                                                           \n",
       "0.0       93.604768     -40.563251   3.802752  5175.667220  \n",
       "1.0       93.374348     -39.974620   2.107931  5093.995256  "
      ]
     },
     "execution_count": 9,
     "metadata": {},
     "output_type": "execute_result"
    }
   ],
   "source": [
    "data.groupby('y').mean()"
   ]
  },
  {
   "cell_type": "code",
   "execution_count": 10,
   "metadata": {},
   "outputs": [
    {
     "data": {
      "text/html": [
       "<div>\n",
       "<style scoped>\n",
       "    .dataframe tbody tr th:only-of-type {\n",
       "        vertical-align: middle;\n",
       "    }\n",
       "\n",
       "    .dataframe tbody tr th {\n",
       "        vertical-align: top;\n",
       "    }\n",
       "\n",
       "    .dataframe thead th {\n",
       "        text-align: right;\n",
       "    }\n",
       "</style>\n",
       "<table border=\"1\" class=\"dataframe\">\n",
       "  <thead>\n",
       "    <tr style=\"text-align: right;\">\n",
       "      <th></th>\n",
       "      <th></th>\n",
       "      <th>age</th>\n",
       "      <th>duration</th>\n",
       "      <th>campaign</th>\n",
       "      <th>pdays</th>\n",
       "      <th>previous</th>\n",
       "      <th>emp_var_rate</th>\n",
       "      <th>cons_price_idx</th>\n",
       "      <th>cons_conf_idx</th>\n",
       "      <th>euribor3m</th>\n",
       "      <th>nr_employed</th>\n",
       "    </tr>\n",
       "    <tr>\n",
       "      <th>y</th>\n",
       "      <th>education</th>\n",
       "      <th></th>\n",
       "      <th></th>\n",
       "      <th></th>\n",
       "      <th></th>\n",
       "      <th></th>\n",
       "      <th></th>\n",
       "      <th></th>\n",
       "      <th></th>\n",
       "      <th></th>\n",
       "      <th></th>\n",
       "    </tr>\n",
       "  </thead>\n",
       "  <tbody>\n",
       "    <tr>\n",
       "      <th rowspan=\"6\" valign=\"top\">0.0</th>\n",
       "      <th>basic</th>\n",
       "      <td>41.670535</td>\n",
       "      <td>226.230930</td>\n",
       "      <td>2.599011</td>\n",
       "      <td>988.242914</td>\n",
       "      <td>0.119460</td>\n",
       "      <td>0.277801</td>\n",
       "      <td>93.660467</td>\n",
       "      <td>-40.953719</td>\n",
       "      <td>3.830716</td>\n",
       "      <td>5176.635096</td>\n",
       "    </tr>\n",
       "    <tr>\n",
       "      <th>high.school</th>\n",
       "      <td>37.893164</td>\n",
       "      <td>221.224331</td>\n",
       "      <td>2.602547</td>\n",
       "      <td>986.360021</td>\n",
       "      <td>0.148427</td>\n",
       "      <td>0.200624</td>\n",
       "      <td>93.617601</td>\n",
       "      <td>-41.010086</td>\n",
       "      <td>3.742054</td>\n",
       "      <td>5173.597738</td>\n",
       "    </tr>\n",
       "    <tr>\n",
       "      <th>illiterate</th>\n",
       "      <td>47.000000</td>\n",
       "      <td>126.125000</td>\n",
       "      <td>2.125000</td>\n",
       "      <td>999.000000</td>\n",
       "      <td>0.125000</td>\n",
       "      <td>0.225000</td>\n",
       "      <td>93.445750</td>\n",
       "      <td>-42.687500</td>\n",
       "      <td>3.832250</td>\n",
       "      <td>5187.775000</td>\n",
       "    </tr>\n",
       "    <tr>\n",
       "      <th>professional.course</th>\n",
       "      <td>40.083140</td>\n",
       "      <td>219.052485</td>\n",
       "      <td>2.642824</td>\n",
       "      <td>983.790989</td>\n",
       "      <td>0.112866</td>\n",
       "      <td>0.400557</td>\n",
       "      <td>93.606654</td>\n",
       "      <td>-40.076173</td>\n",
       "      <td>3.963944</td>\n",
       "      <td>5182.310683</td>\n",
       "    </tr>\n",
       "    <tr>\n",
       "      <th>university.degree</th>\n",
       "      <td>38.867442</td>\n",
       "      <td>211.966964</td>\n",
       "      <td>2.637025</td>\n",
       "      <td>981.260544</td>\n",
       "      <td>0.145439</td>\n",
       "      <td>0.153916</td>\n",
       "      <td>93.516023</td>\n",
       "      <td>-40.057158</td>\n",
       "      <td>3.736795</td>\n",
       "      <td>5173.488947</td>\n",
       "    </tr>\n",
       "    <tr>\n",
       "      <th>unknown</th>\n",
       "      <td>42.938144</td>\n",
       "      <td>232.689249</td>\n",
       "      <td>2.811487</td>\n",
       "      <td>984.425626</td>\n",
       "      <td>0.148748</td>\n",
       "      <td>0.348306</td>\n",
       "      <td>93.725781</td>\n",
       "      <td>-40.115317</td>\n",
       "      <td>3.886215</td>\n",
       "      <td>5174.131075</td>\n",
       "    </tr>\n",
       "    <tr>\n",
       "      <th rowspan=\"6\" valign=\"top\">1.0</th>\n",
       "      <th>basic</th>\n",
       "      <td>47.183236</td>\n",
       "      <td>628.982456</td>\n",
       "      <td>2.013645</td>\n",
       "      <td>836.267057</td>\n",
       "      <td>0.407407</td>\n",
       "      <td>-0.992982</td>\n",
       "      <td>93.407895</td>\n",
       "      <td>-40.302729</td>\n",
       "      <td>2.398234</td>\n",
       "      <td>5110.141715</td>\n",
       "    </tr>\n",
       "    <tr>\n",
       "      <th>high.school</th>\n",
       "      <td>37.237792</td>\n",
       "      <td>598.354565</td>\n",
       "      <td>2.031847</td>\n",
       "      <td>792.558386</td>\n",
       "      <td>0.475584</td>\n",
       "      <td>-1.217622</td>\n",
       "      <td>93.364257</td>\n",
       "      <td>-40.069002</td>\n",
       "      <td>2.127654</td>\n",
       "      <td>5095.696391</td>\n",
       "    </tr>\n",
       "    <tr>\n",
       "      <th>illiterate</th>\n",
       "      <td>51.000000</td>\n",
       "      <td>838.000000</td>\n",
       "      <td>3.000000</td>\n",
       "      <td>999.000000</td>\n",
       "      <td>0.000000</td>\n",
       "      <td>-1.800000</td>\n",
       "      <td>93.075000</td>\n",
       "      <td>-47.100000</td>\n",
       "      <td>1.410000</td>\n",
       "      <td>5099.100000</td>\n",
       "    </tr>\n",
       "    <tr>\n",
       "      <th>professional.course</th>\n",
       "      <td>40.498339</td>\n",
       "      <td>544.418605</td>\n",
       "      <td>2.043189</td>\n",
       "      <td>791.259136</td>\n",
       "      <td>0.468439</td>\n",
       "      <td>-1.186711</td>\n",
       "      <td>93.391030</td>\n",
       "      <td>-40.157807</td>\n",
       "      <td>2.136684</td>\n",
       "      <td>5093.593688</td>\n",
       "    </tr>\n",
       "    <tr>\n",
       "      <th>university.degree</th>\n",
       "      <td>38.500000</td>\n",
       "      <td>488.048969</td>\n",
       "      <td>2.048969</td>\n",
       "      <td>760.864691</td>\n",
       "      <td>0.563144</td>\n",
       "      <td>-1.381057</td>\n",
       "      <td>93.343707</td>\n",
       "      <td>-39.733892</td>\n",
       "      <td>1.944482</td>\n",
       "      <td>5085.543428</td>\n",
       "    </tr>\n",
       "    <tr>\n",
       "      <th>unknown</th>\n",
       "      <td>44.293578</td>\n",
       "      <td>485.486239</td>\n",
       "      <td>1.935780</td>\n",
       "      <td>707.422018</td>\n",
       "      <td>0.770642</td>\n",
       "      <td>-1.444037</td>\n",
       "      <td>93.434881</td>\n",
       "      <td>-39.165138</td>\n",
       "      <td>1.747055</td>\n",
       "      <td>5071.885321</td>\n",
       "    </tr>\n",
       "  </tbody>\n",
       "</table>\n",
       "</div>"
      ],
      "text/plain": [
       "                               age    duration  campaign       pdays  \\\n",
       "y   education                                                          \n",
       "0.0 basic                41.670535  226.230930  2.599011  988.242914   \n",
       "    high.school          37.893164  221.224331  2.602547  986.360021   \n",
       "    illiterate           47.000000  126.125000  2.125000  999.000000   \n",
       "    professional.course  40.083140  219.052485  2.642824  983.790989   \n",
       "    university.degree    38.867442  211.966964  2.637025  981.260544   \n",
       "    unknown              42.938144  232.689249  2.811487  984.425626   \n",
       "1.0 basic                47.183236  628.982456  2.013645  836.267057   \n",
       "    high.school          37.237792  598.354565  2.031847  792.558386   \n",
       "    illiterate           51.000000  838.000000  3.000000  999.000000   \n",
       "    professional.course  40.498339  544.418605  2.043189  791.259136   \n",
       "    university.degree    38.500000  488.048969  2.048969  760.864691   \n",
       "    unknown              44.293578  485.486239  1.935780  707.422018   \n",
       "\n",
       "                         previous  emp_var_rate  cons_price_idx  \\\n",
       "y   education                                                     \n",
       "0.0 basic                0.119460      0.277801       93.660467   \n",
       "    high.school          0.148427      0.200624       93.617601   \n",
       "    illiterate           0.125000      0.225000       93.445750   \n",
       "    professional.course  0.112866      0.400557       93.606654   \n",
       "    university.degree    0.145439      0.153916       93.516023   \n",
       "    unknown              0.148748      0.348306       93.725781   \n",
       "1.0 basic                0.407407     -0.992982       93.407895   \n",
       "    high.school          0.475584     -1.217622       93.364257   \n",
       "    illiterate           0.000000     -1.800000       93.075000   \n",
       "    professional.course  0.468439     -1.186711       93.391030   \n",
       "    university.degree    0.563144     -1.381057       93.343707   \n",
       "    unknown              0.770642     -1.444037       93.434881   \n",
       "\n",
       "                         cons_conf_idx  euribor3m  nr_employed  \n",
       "y   education                                                   \n",
       "0.0 basic                   -40.953719   3.830716  5176.635096  \n",
       "    high.school             -41.010086   3.742054  5173.597738  \n",
       "    illiterate              -42.687500   3.832250  5187.775000  \n",
       "    professional.course     -40.076173   3.963944  5182.310683  \n",
       "    university.degree       -40.057158   3.736795  5173.488947  \n",
       "    unknown                 -40.115317   3.886215  5174.131075  \n",
       "1.0 basic                   -40.302729   2.398234  5110.141715  \n",
       "    high.school             -40.069002   2.127654  5095.696391  \n",
       "    illiterate              -47.100000   1.410000  5099.100000  \n",
       "    professional.course     -40.157807   2.136684  5093.593688  \n",
       "    university.degree       -39.733892   1.944482  5085.543428  \n",
       "    unknown                 -39.165138   1.747055  5071.885321  "
      ]
     },
     "execution_count": 10,
     "metadata": {},
     "output_type": "execute_result"
    }
   ],
   "source": [
    "data.groupby(['y', 'education']).mean()"
   ]
  },
  {
   "cell_type": "code",
   "execution_count": 11,
   "metadata": {},
   "outputs": [
    {
     "data": {
      "image/png": "[encoded data removed]",
      "text/plain": [
       "<Figure size 432x288 with 1 Axes>"
      ]
     },
     "metadata": {},
     "output_type": "display_data"
    }
   ],
   "source": [
    "%matplotlib inline\n",
    "pd.crosstab(data.job, data.y).plot(kind='bar')\n",
    "plt.title('Purchase Frequency for Job Title')\n",
    "plt.xlabel('Job')\n",
    "plt.ylabel('Frequecy of Purchase')\n",
    "plt.show()"
   ]
  },
  {
   "cell_type": "code",
   "execution_count": 12,
   "metadata": {},
   "outputs": [
    {
     "data": {
      "image/png": "[encoded data removed]",
      "text/plain": [
       "<Figure size 432x288 with 1 Axes>"
      ]
     },
     "metadata": {},
     "output_type": "display_data"
    }
   ],
   "source": [
    "table = pd.crosstab(data.marital, data.y)\n",
    "table.div(table.sum(1).astype(float), axis=0).plot(kind='bar', stacked=True)\n",
    "plt.title('Stacked Bar Chart of Marital Status vs Purchase')\n",
    "plt.xlabel('Marital Status')\n",
    "plt.ylabel('Proportion of Customs')\n",
    "plt.show()"
   ]
  },
  {
   "cell_type": "code",
   "execution_count": 13,
   "metadata": {},
   "outputs": [
    {
     "data": {
      "image/png": "[encoded data removed]",
      "text/plain": [
       "<Figure size 432x288 with 1 Axes>"
      ]
     },
     "metadata": {},
     "output_type": "display_data"
    }
   ],
   "source": [
    "table=pd.crosstab(data.education,data.y)\n",
    "table.div(table.sum(1).astype(float), axis=0).plot(kind='bar', stacked=True)\n",
    "plt.title('Stacked Bar Chart of Education vs Purchase')\n",
    "plt.xlabel('Education')\n",
    "plt.ylabel('Proportion of Customers')\n",
    "plt.show()"
   ]
  },
  {
   "cell_type": "code",
   "execution_count": 14,
   "metadata": {},
   "outputs": [
    {
     "data": {
      "image/png": "[encoded data removed]",
      "text/plain": [
       "<Figure size 432x288 with 1 Axes>"
      ]
     },
     "metadata": {},
     "output_type": "display_data"
    }
   ],
   "source": [
    "pd.crosstab(data.day_of_week,data.y).plot(kind='bar')\n",
    "plt.title('Purchase Frequency for Day of Week')\n",
    "plt.xlabel('Day of Week')\n",
    "plt.ylabel('Frequency of Purchase')\n",
    "plt.show()"
   ]
  },
  {
   "cell_type": "code",
   "execution_count": 15,
   "metadata": {},
   "outputs": [
    {
     "data": {
      "image/png": "[encoded data removed]",
      "text/plain": [
       "<Figure size 432x288 with 1 Axes>"
      ]
     },
     "metadata": {},
     "output_type": "display_data"
    }
   ],
   "source": [
    "pd.crosstab(data.month,data.y).plot(kind='bar')\n",
    "plt.title('Purchase Frequency for Month')\n",
    "plt.xlabel('Month')\n",
    "plt.ylabel('Frequency of Purchase')\n",
    "plt.show()"
   ]
  },
  {
   "cell_type": "code",
   "execution_count": 16,
   "metadata": {},
   "outputs": [
    {
     "data": {
      "image/png": "[encoded data removed]",
      "text/plain": [
       "<Figure size 432x288 with 1 Axes>"
      ]
     },
     "metadata": {},
     "output_type": "display_data"
    }
   ],
   "source": [
    "data.age.hist()\n",
    "plt.title('Histogram of Age')\n",
    "plt.xlabel('Age')\n",
    "plt.ylabel('Frequency')\n",
    "plt.show()"
   ]
  },
  {
   "cell_type": "code",
   "execution_count": 17,
   "metadata": {},
   "outputs": [
    {
     "data": {
      "image/png": "[encoded data removed]",
      "text/plain": [
       "<Figure size 432x288 with 1 Axes>"
      ]
     },
     "metadata": {},
     "output_type": "display_data"
    }
   ],
   "source": [
    "pd.crosstab(data.poutcome,data.y).plot(kind='bar')\n",
    "plt.title('Purchase Frequency for Poutcome')\n",
    "plt.xlabel('Poutcome')\n",
    "plt.ylabel('Frequency of Purchase')\n",
    "plt.show()"
   ]
  },
  {
   "cell_type": "code",
   "execution_count": 18,
   "metadata": {},
   "outputs": [
    {
     "data": {
      "text/plain": [
       "array(['age', 'duration', 'campaign', 'pdays', 'previous', 'emp_var_rate',\n",
       "       'cons_price_idx', 'cons_conf_idx', 'euribor3m', 'nr_employed', 'y',\n",
       "       'job_admin.', 'job_blue-collar', 'job_entrepreneur',\n",
       "       'job_housemaid', 'job_management', 'job_retired',\n",
       "       'job_self-employed', 'job_services', 'job_student',\n",
       "       'job_technician', 'job_unemployed', 'job_unknown',\n",
       "       'marital_divorced', 'marital_married', 'marital_single',\n",
       "       'marital_unknown', 'education_basic', 'education_high.school',\n",
       "       'education_illiterate', 'education_professional.course',\n",
       "       'education_university.degree', 'education_unknown', 'default_no',\n",
       "       'default_unknown', 'default_yes', 'housing_no', 'housing_unknown',\n",
       "       'housing_yes', 'loan_no', 'loan_unknown', 'loan_yes',\n",
       "       'contact_cellular', 'contact_telephone', 'month_apr', 'month_aug',\n",
       "       'month_dec', 'month_jul', 'month_jun', 'month_mar', 'month_may',\n",
       "       'month_nov', 'month_oct', 'month_sep', 'day_of_week_fri',\n",
       "       'day_of_week_mon', 'day_of_week_thu', 'day_of_week_tue',\n",
       "       'day_of_week_wed', 'poutcome_failure', 'poutcome_nonexistent',\n",
       "       'poutcome_success'], dtype=object)"
      ]
     },
     "execution_count": 18,
     "metadata": {},
     "output_type": "execute_result"
    }
   ],
   "source": [
    "# create dummy variables\n",
    "cat_vars = ['job', 'marital', 'education', 'default', 'housing', 'loan', 'contact',\n",
    "           'month', 'day_of_week', 'poutcome']\n",
    "for var in cat_vars:\n",
    "    cat_list = 'var' + '_' + var\n",
    "    cat_list = pd.get_dummies(data[var], prefix=var)\n",
    "    data1 = data.join(cat_list)\n",
    "    data = data1\n",
    "data_vars = data.columns.values.tolist()\n",
    "to_keep = [i for i in data_vars if i not in cat_vars]\n",
    "\n",
    "data_final = data[to_keep]\n",
    "data_final.columns.values"
   ]
  },
  {
   "cell_type": "code",
   "execution_count": 19,
   "metadata": {},
   "outputs": [],
   "source": [
    "data_final_vars = data_final.columns.values.tolist()\n",
    "y = ['y']\n",
    "X = [i for i in data_final_vars if i not in y]"
   ]
  },
  {
   "cell_type": "code",
   "execution_count": 20,
   "metadata": {},
   "outputs": [
    {
     "name": "stderr",
     "output_type": "stream",
     "text": [
      "/usr/local/lib/python3.6/site-packages/sklearn/utils/validation.py:578: DataConversionWarning: A column-vector y was passed when a 1d array was expected. Please change the shape of y to (n_samples, ), for example using ravel().\n",
      "  y = column_or_1d(y, warn=True)\n"
     ]
    },
    {
     "name": "stdout",
     "output_type": "stream",
     "text": [
      "[False False False False  True  True False False False False False False\n",
      " False False False  True  True False  True False False False False False\n",
      " False False  True False False False False False  True  True False False\n",
      " False False False False False  True  True False False False  True  True\n",
      "  True  True False False False False  True False False False  True  True\n",
      "  True]\n",
      "[27 24 18 39  1  1 12 13 23 16  4  7 30 19 40  1  1  9  1 26 38 34  3 10\n",
      " 11 36  1  2 42  5 22 25  1  1 44  8 43 28 29 41 17  1  1 33  6 31  1  1\n",
      "  1  1 35 21 32 20  1 15 14 37  1  1  1]\n"
     ]
    }
   ],
   "source": [
    "# select feature using RFE(Recursive Feature Elimination)\n",
    "from sklearn import datasets\n",
    "from sklearn.feature_selection import RFE\n",
    "from sklearn.linear_model import LogisticRegression\n",
    "\n",
    "logreg = LogisticRegression()\n",
    "\n",
    "rfe = RFE(logreg, 18)\n",
    "rfe = rfe.fit(data_final[X], data_final[y])\n",
    "print(rfe.support_)\n",
    "print(rfe.ranking_)"
   ]
  },
  {
   "cell_type": "code",
   "execution_count": 21,
   "metadata": {},
   "outputs": [],
   "source": [
    "cols=[\"previous\", \"euribor3m\", \"job_blue-collar\", \"job_retired\", \"job_services\", \"job_student\", \"default_no\", \n",
    "      \"month_aug\", \"month_dec\", \"month_jul\", \"month_nov\", \"month_oct\", \"month_sep\", \"day_of_week_fri\", \"day_of_week_wed\", \n",
    "      \"poutcome_failure\", \"poutcome_nonexistent\", \"poutcome_success\"] \n",
    "X=data_final[cols]\n",
    "y=data_final['y']"
   ]
  },
  {
   "cell_type": "code",
   "execution_count": 22,
   "metadata": {},
   "outputs": [
    {
     "name": "stdout",
     "output_type": "stream",
     "text": [
      "Optimization terminated successfully.\n",
      "         Current function value: 0.290502\n",
      "         Iterations 7\n",
      "                           Logit Regression Results                           \n",
      "==============================================================================\n",
      "Dep. Variable:                      y   No. Observations:                18928\n",
      "Model:                          Logit   Df Residuals:                    18910\n",
      "Method:                           MLE   Df Model:                           17\n",
      "Date:                Sat, 26 May 2018   Pseudo R-squ.:                  0.1845\n",
      "Time:                        16:31:13   Log-Likelihood:                -5498.6\n",
      "converged:                       True   LL-Null:                       -6742.6\n",
      "                                        LLR p-value:                     0.000\n",
      "========================================================================================\n",
      "                           coef    std err          z      P>|z|      [0.025      0.975]\n",
      "----------------------------------------------------------------------------------------\n",
      "previous                 0.2376      0.075      3.171      0.002       0.091       0.384\n",
      "euribor3m               -0.4952      0.018    -27.457      0.000      -0.531      -0.460\n",
      "job_blue-collar         -0.3233      0.072     -4.499      0.000      -0.464      -0.182\n",
      "job_retired              0.4438      0.102      4.370      0.000       0.245       0.643\n",
      "job_services            -0.1514      0.095     -1.597      0.110      -0.337       0.034\n",
      "job_student              0.4101      0.125      3.291      0.001       0.166       0.654\n",
      "default_no               0.3207      0.082      3.930      0.000       0.161       0.481\n",
      "month_aug                0.2837      0.082      3.462      0.001       0.123       0.444\n",
      "month_dec                0.4665      0.251      1.857      0.063      -0.026       0.959\n",
      "month_jul                0.6994      0.081      8.588      0.000       0.540       0.859\n",
      "month_nov                0.3271      0.093      3.518      0.000       0.145       0.509\n",
      "month_oct                0.7224      0.126      5.711      0.000       0.474       0.970\n",
      "month_sep                0.4275      0.143      2.989      0.003       0.147       0.708\n",
      "day_of_week_fri          0.0388      0.065      0.592      0.554      -0.090       0.167\n",
      "day_of_week_wed          0.0451      0.066      0.683      0.495      -0.084       0.175\n",
      "poutcome_failure        -1.8014      0.146    -12.342      0.000      -2.087      -1.515\n",
      "poutcome_nonexistent    -1.0994      0.102    -10.748      0.000      -1.300      -0.899\n",
      "poutcome_success         0.2288      0.168      1.364      0.172      -0.100       0.558\n",
      "========================================================================================\n"
     ]
    }
   ],
   "source": [
    "import statsmodels.api as sm\n",
    "logit_model = sm.Logit(y, X)\n",
    "result = logit_model.fit()\n",
    "print(result.summary())"
   ]
  },
  {
   "cell_type": "code",
   "execution_count": 23,
   "metadata": {},
   "outputs": [
    {
     "data": {
      "text/plain": [
       "LogisticRegression(C=1.0, class_weight=None, dual=False, fit_intercept=True,\n",
       "          intercept_scaling=1, max_iter=100, multi_class='ovr', n_jobs=1,\n",
       "          penalty='l2', random_state=None, solver='liblinear', tol=0.0001,\n",
       "          verbose=0, warm_start=False)"
      ]
     },
     "execution_count": 23,
     "metadata": {},
     "output_type": "execute_result"
    }
   ],
   "source": [
    "X_train, X_test, y_train, y_test = train_test_split(X, y, test_size=0.3, random_state=0)\n",
    "from sklearn import metrics\n",
    "logreg.fit(X_train, y_train)"
   ]
  },
  {
   "cell_type": "code",
   "execution_count": 24,
   "metadata": {},
   "outputs": [
    {
     "name": "stdout",
     "output_type": "stream",
     "text": [
      "Accuracy of logit regression classfier on test set: 0.90\n"
     ]
    }
   ],
   "source": [
    "y_pred = logreg.predict(X_test)\n",
    "print('Accuracy of logit regression classfier on test set: %.2f' % logreg.score(X_test, y_test))"
   ]
  },
  {
   "cell_type": "code",
   "execution_count": 25,
   "metadata": {},
   "outputs": [
    {
     "name": "stdout",
     "output_type": "stream",
     "text": [
      "10-fold cross validation average accuracy: 0.895\n"
     ]
    }
   ],
   "source": [
    "from sklearn import  model_selection\n",
    "from sklearn.model_selection import cross_val_score\n",
    "kfold = model_selection.KFold(n_splits=10, random_state=7)\n",
    "modelCV = LogisticRegression()\n",
    "results = cross_val_score(modelCV, X_train, y_train, cv=kfold, scoring='accuracy')\n",
    "print('10-fold cross validation average accuracy: %.3f' % results.mean())\n"
   ]
  },
  {
   "cell_type": "code",
   "execution_count": 26,
   "metadata": {},
   "outputs": [
    {
     "name": "stdout",
     "output_type": "stream",
     "text": [
      "[[5001   59]\n",
      " [ 508  111]]\n"
     ]
    }
   ],
   "source": [
    "from sklearn.metrics import confusion_matrix\n",
    "confusion_matrix = confusion_matrix(y_test, y_pred)\n",
    "print(confusion_matrix)"
   ]
  },
  {
   "cell_type": "code",
   "execution_count": 27,
   "metadata": {},
   "outputs": [
    {
     "name": "stdout",
     "output_type": "stream",
     "text": [
      "             precision    recall  f1-score   support\n",
      "\n",
      "        0.0       0.91      0.99      0.95      5060\n",
      "        1.0       0.65      0.18      0.28       619\n",
      "\n",
      "avg / total       0.88      0.90      0.87      5679\n",
      "\n"
     ]
    }
   ],
   "source": [
    "from sklearn.metrics import classification_report\n",
    "print(classification_report(y_test, y_pred))"
   ]
  },
  {
   "cell_type": "code",
   "execution_count": 28,
   "metadata": {},
   "outputs": [
    {
     "data": {
      "image/png": "[encoded data removed]",
      "text/plain": [
       "<Figure size 432x288 with 1 Axes>"
      ]
     },
     "metadata": {},
     "output_type": "display_data"
    }
   ],
   "source": [
    "from sklearn.metrics import roc_auc_score\n",
    "from sklearn.metrics import roc_curve\n",
    "logit_roc_auc = roc_auc_score(y_test, logreg.predict(X_test))\n",
    "fpr, tpr, thresholds = roc_curve(y_test, logreg.predict_proba(X_test)[:,1])\n",
    "plt.figure()\n",
    "plt.plot(fpr, tpr, label='Logistic Regression (area = %0.2f)' % logit_roc_auc)\n",
    "plt.plot([0, 1], [0, 1],'r--')\n",
    "plt.xlim([0.0, 1.0])\n",
    "plt.ylim([0.0, 1.05])\n",
    "plt.xlabel('False Positive Rate')\n",
    "plt.ylabel('True Positive Rate')\n",
    "plt.title('Receiver operating characteristic')\n",
    "plt.legend(loc=\"lower right\")\n",
    "plt.show()"
   ]
  },
  {
   "cell_type": "code",
   "execution_count": null,
   "metadata": {},
   "outputs": [],
   "source": []
  }
 ],
 "metadata": {
  "kernelspec": {
   "display_name": "Python 3",
   "language": "python",
   "name": "python3"
  },
  "language_info": {
   "codemirror_mode": {
    "name": "ipython",
    "version": 3
   },
   "file_extension": ".py",
   "mimetype": "text/x-python",
   "name": "python",
   "nbconvert_exporter": "python",
   "pygments_lexer": "ipython3",
   "version": "3.6.5"
  }
 },
 "nbformat": 4,
 "nbformat_minor": 2
}
