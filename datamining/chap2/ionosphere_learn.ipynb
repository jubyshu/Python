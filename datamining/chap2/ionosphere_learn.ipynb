{
 "cells": [
  {
   "cell_type": "markdown",
   "metadata": {},
   "source": [
    "### scikit-learn Estimator\n",
    "- 估计器：用于分类、聚类和回归分析\n",
    "- 转换器：用于数据预处理和数据转换\n",
    "- 流水线：组合数据挖掘流程，便于再次利用"
   ]
  },
  {
   "cell_type": "code",
   "execution_count": 1,
   "metadata": {},
   "outputs": [
    {
     "name": "stdout",
     "output_type": "stream",
     "text": [
      "/Users/juby\n"
     ]
    }
   ],
   "source": [
    "# import os\n",
    "# home_folder = os.path.expanduser('~')\n",
    "# print(home_folder)"
   ]
  },
  {
   "cell_type": "code",
   "execution_count": 26,
   "metadata": {},
   "outputs": [
    {
     "name": "stdout",
     "output_type": "stream",
     "text": [
      "/Users/juby/Desktop/datamining/ionosphere.data\n"
     ]
    }
   ],
   "source": [
    "import numpy as np\n",
    "import csv\n",
    "\n",
    "# data_folder = os.path.join(home_folder, 'Desktop', 'datamining')\n",
    "# data_filename = os.path.join(data_folder, 'ionosphere.data')\n",
    "data_filename = '/Users/juby/Desktop/datamining/ionosphere.data'\n",
    "print(data_filename)"
   ]
  },
  {
   "cell_type": "code",
   "execution_count": 27,
   "metadata": {},
   "outputs": [],
   "source": [
    "# 创建Numpy数组x，y存放数据集\n",
    "x = np.zeros((351, 34), dtype='float')\n",
    "y = np.zeros((351,), dtype='bool')\n",
    "\n",
    "with open(data_filename, 'r') as f:\n",
    "    reader = csv.reader(f)\n",
    "    for i, row in enumerate(reader):\n",
    "        data = [float(datum) for datum in row[:-1]]\n",
    "        x[i] = data\n",
    "        y[i] = row[-1] == 'g'"
   ]
  },
  {
   "cell_type": "code",
   "execution_count": 4,
   "metadata": {},
   "outputs": [
    {
     "name": "stdout",
     "output_type": "stream",
     "text": [
      "There are 263 samples in the training dataset\n",
      "There are 88 samples in the testing dataset\n",
      "Each sample has 34 features\n"
     ]
    }
   ],
   "source": [
    "from sklearn.model_selection import train_test_split\n",
    "x_train, x_test, y_train, y_test = train_test_split(x, y, random_state=14)\n",
    "print(\"There are {} samples in the training dataset\".format(x_train.shape[0]))\n",
    "print(\"There are {} samples in the testing dataset\".format(x_test.shape[0]))\n",
    "print(\"Each sample has {} features\".format(x_train.shape[1]))"
   ]
  },
  {
   "cell_type": "code",
   "execution_count": 11,
   "metadata": {},
   "outputs": [
    {
     "name": "stdout",
     "output_type": "stream",
     "text": [
      "The accuracy is 86.4\n"
     ]
    }
   ],
   "source": [
    "# 导入 K 近邻分类器\n",
    "# 创建估计器\n",
    "from sklearn.neighbors import KNeighborsClassifier\n",
    "estimator = KNeighborsClassifier()\n",
    "\n",
    "estimator.fit(x_train, y_train)\n",
    "\n",
    "y_predicted = estimator.predict(x_test)\n",
    "accuracy = np.mean(y_test == y_predicted) * 100\n",
    "print('The accuracy is %.1f' % accuracy)"
   ]
  },
  {
   "cell_type": "code",
   "execution_count": 12,
   "metadata": {},
   "outputs": [
    {
     "name": "stdout",
     "output_type": "stream",
     "text": [
      "The average accuracy is 82.3\n"
     ]
    }
   ],
   "source": [
    "# 交叉检验\n",
    "from sklearn.model_selection import cross_val_score\n",
    "scores = cross_val_score(estimator, x, y, scoring='accuracy')\n",
    "average_accuracy = np.mean(scores) * 100\n",
    "print('The average accuracy is %.1f' % average_accuracy)"
   ]
  },
  {
   "cell_type": "code",
   "execution_count": 13,
   "metadata": {},
   "outputs": [],
   "source": [
    "# 设置参数\n",
    "avg_scores = []\n",
    "all_scores = []\n",
    "parameter_values = list(range(1, 21))\n",
    "for n_neighbors in parameter_values:\n",
    "    estimator = KNeighborsClassifier(n_neighbors= n_neighbors)\n",
    "    scores = cross_val_score(estimator, x, y, scoring='accuracy')\n",
    "    avg_scores.append(np.mean(scores))\n",
    "    all_scores.append(scores)"
   ]
  },
  {
   "cell_type": "code",
   "execution_count": 14,
   "metadata": {},
   "outputs": [],
   "source": [
    "%matplotlib inline"
   ]
  },
  {
   "cell_type": "code",
   "execution_count": 15,
   "metadata": {},
   "outputs": [
    {
     "data": {
      "text/plain": [
       "[<matplotlib.lines.Line2D at 0x1134af198>]"
      ]
     },
     "execution_count": 15,
     "metadata": {},
     "output_type": "execute_result"
    },
    {
     "data": {
      "image/png": "[encoded data removed]",
      "text/plain": [
       "<Figure size 432x288 with 1 Axes>"
      ]
     },
     "metadata": {},
     "output_type": "display_data"
    }
   ],
   "source": [
    "from matplotlib import pyplot as plt\n",
    "plt.plot(parameter_values, avg_scores, '-o')"
   ]
  },
  {
   "cell_type": "code",
   "execution_count": 22,
   "metadata": {},
   "outputs": [
    {
     "name": "stdout",
     "output_type": "stream",
     "text": [
      "The original average accuracy is 82.3\n",
      "The broken average accuracy is 71.5\n"
     ]
    }
   ],
   "source": [
    "# 转换器\n",
    "# 预处理示例\n",
    "# 创建数据副本\n",
    "x_broken = np.array(x)\n",
    "# 每隔一行，把第二个特征的值除以10\n",
    "x_broken[:, ::2] /= 10\n",
    "\n",
    "estimator = KNeighborsClassifier()\n",
    "oringal_scores = cross_val_score(estimator, x, y, scoring='accuracy')\n",
    "print('The original average accuracy is %.1f' % (np.mean(oringal_scores)*100))\n",
    "\n",
    "broken_scores = cross_val_score(estimator, x_broken, y, scoring='accuracy')\n",
    "print('The broken average accuracy is %.1f' % (np.mean(broken_scores)*100))"
   ]
  },
  {
   "cell_type": "code",
   "execution_count": 24,
   "metadata": {},
   "outputs": [
    {
     "name": "stdout",
     "output_type": "stream",
     "text": [
      "The transformed average accuracy is 82.3\n"
     ]
    }
   ],
   "source": [
    "# 标准预处理\n",
    "# MinMaxScaler把每个特征的值域规范化为0-1之间\n",
    "from sklearn.preprocessing import MinMaxScaler\n",
    "x_transformed = MinMaxScaler().fit_transform(x_broken)\n",
    "estimator = KNeighborsClassifier()\n",
    "tranformed_scores = cross_val_score(estimator, x_transformed, y, scoring='accuracy')\n",
    "print('The transformed average accuracy is %.1f' % (np.mean(tranformed_scores)*100))"
   ]
  },
  {
   "cell_type": "code",
   "execution_count": 25,
   "metadata": {},
   "outputs": [
    {
     "name": "stdout",
     "output_type": "stream",
     "text": [
      "The pipeline scores an average accuracy is 82.3\n"
     ]
    }
   ],
   "source": [
    "# 流水线\n",
    "from sklearn.pipeline import Pipeline\n",
    "scaling_pipeline = Pipeline([('scale', MinMaxScaler()),\n",
    "                            ('predict', KNeighborsClassifier())])\n",
    "scores = cross_val_score(scaling_pipeline, x_broken, y, scoring='accuracy')\n",
    "print('The pipeline scores an average accuracy is %.1f' % (np.mean(tranformed_scores)*100))"
   ]
  },
  {
   "cell_type": "code",
   "execution_count": null,
   "metadata": {},
   "outputs": [],
   "source": []
  }
 ],
 "metadata": {
  "kernelspec": {
   "display_name": "Python 3",
   "language": "python",
   "name": "python3"
  },
  "language_info": {
   "codemirror_mode": {
    "name": "ipython",
    "version": 3
   },
   "file_extension": ".py",
   "mimetype": "text/x-python",
   "name": "python",
   "nbconvert_exporter": "python",
   "pygments_lexer": "ipython3",
   "version": "3.6.5"
  }
 },
 "nbformat": 4,
 "nbformat_minor": 2
}
