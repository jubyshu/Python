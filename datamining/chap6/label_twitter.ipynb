{
 "cells": [
  {
   "cell_type": "code",
   "execution_count": 14,
   "metadata": {},
   "outputs": [],
   "source": [
    "import os\n",
    "\n",
    "input_filename = os.path.join(os.path.expanduser('~'), 'Desktop', 'python_tweets.json')\n",
    "classes_filename = os.path.join(os.path.expanduser('~'), 'Desktop', 'python_classes.json')"
   ]
  },
  {
   "cell_type": "code",
   "execution_count": 15,
   "metadata": {},
   "outputs": [
    {
     "name": "stdout",
     "output_type": "stream",
     "text": [
      "Loaded 100 tweets\n"
     ]
    }
   ],
   "source": [
    "import json\n",
    "\n",
    "tweets = []\n",
    "with open(input_filename) as inf:\n",
    "    for line in inf:\n",
    "        if len(line.strip()) == 0:\n",
    "            continue\n",
    "        tweets.append(json.loads(line))\n",
    "print('Loaded %d tweets' % len(tweets))"
   ]
  },
  {
   "cell_type": "code",
   "execution_count": 16,
   "metadata": {},
   "outputs": [
    {
     "name": "stdout",
     "output_type": "stream",
     "text": [
      "0\n"
     ]
    }
   ],
   "source": [
    "labels = []\n",
    "if os.path.exists(classes_filename):\n",
    "    with open(classes_filename) as inf:\n",
    "        labels = json.load(inf)\n",
    "print(len(labels))"
   ]
  },
  {
   "cell_type": "code",
   "execution_count": 17,
   "metadata": {},
   "outputs": [],
   "source": [
    "tweet_sample = tweets\n",
    "def get_next_tweet():\n",
    "    return tweet_sample[len(labels)]['text']"
   ]
  },
  {
   "cell_type": "code",
   "execution_count": 21,
   "metadata": {},
   "outputs": [
    {
     "data": {
      "application/javascript": [
       "\n",
       "function set_label(label){\n",
       "    var kernel = IPython.notebook.kernel;\n",
       "    kernel.execute('labels.append(' + label + ')');\n",
       "    load_next_tweet();\n",
       "}\n",
       "\n",
       "function load_next_tweet(){\n",
       "    var code_input = 'get_next_tweet()';\n",
       "    var kernel = IPython.notebook.kernel;\n",
       "    var callbacks = {'iopub': {'output': handle_output}};\n",
       "    kernel.execute(code_input, callbacks, {silent:false});\n",
       "}\n",
       "\n",
       "function handle_output(out){\n",
       "    console.log(out);\n",
       "    var res = out.content.data['text/plain'];\n",
       "    $('div#tweet_text').html(res)\n",
       "}"
      ],
      "text/plain": [
       "<IPython.core.display.Javascript object>"
      ]
     },
     "metadata": {},
     "output_type": "display_data"
    }
   ],
   "source": [
    "%%javascript\n",
    "\n",
    "function set_label(label){\n",
    "    var kernel = IPython.notebook.kernel;\n",
    "    kernel.execute('labels.append(' + label + ')');\n",
    "    load_next_tweet();\n",
    "}\n",
    "\n",
    "function load_next_tweet(){\n",
    "    var code_input = 'get_next_tweet()';\n",
    "    var kernel = IPython.notebook.kernel;\n",
    "    var callbacks = {'iopub': {'output': handle_output}};\n",
    "    kernel.execute(code_input, callbacks, {silent:false});\n",
    "}\n",
    "\n",
    "function handle_output(out){\n",
    "    console.log(out);\n",
    "    var res = out.content.data['text/plain'];\n",
    "    $('div#tweet_text').html(res)\n",
    "}"
   ]
  },
  {
   "cell_type": "code",
   "execution_count": 22,
   "metadata": {},
   "outputs": [
    {
     "data": {
      "text/html": [
       "\n",
       "<div name='tweetbox'>\n",
       "    Instructions: Click in text box. Enter 1 if the tweet is relevant, enter 0 otherwise.<br>\n",
       "    Tweet: <div id='tweet_text', value='text'></div><br>\n",
       "    <input type=text id='capture'></input><br>\n",
       "</div>\n",
       "\n",
       "<script>\n",
       "$(\"input#capture\").keypress(function(e) {\n",
       "    console.log(e);\n",
       "  if(e.which == 48) {\n",
       "    set_label(0);\n",
       "    $(\"input#capture\").val(\"\");\n",
       "  }else if (e.which == 49){\n",
       "    set_label(1);\n",
       "    $(\"input#capture\").val(\"\");\n",
       "  }\n",
       "});\n",
       "\n",
       "load_next_tweet();\n",
       "</script>"
      ],
      "text/plain": [
       "<IPython.core.display.HTML object>"
      ]
     },
     "metadata": {},
     "output_type": "display_data"
    }
   ],
   "source": [
    "%%html\n",
    "\n",
    "<div name='tweetbox'>\n",
    "    Instructions: Click in text box. Enter 1 if the tweet is relevant, enter 0 otherwise.<br>\n",
    "    Tweet: <div id='tweet_text', value='text'></div><br>\n",
    "    <input type=text id='capture'></input><br>\n",
    "</div>\n",
    "\n",
    "<script>\n",
    "$(\"input#capture\").keypress(function(e) {\n",
    "    console.log(e);\n",
    "  if(e.which == 48) {\n",
    "    set_label(0);\n",
    "    $(\"input#capture\").val(\"\");\n",
    "  }else if (e.which == 49){\n",
    "    set_label(1);\n",
    "    $(\"input#capture\").val(\"\");\n",
    "  }\n",
    "});\n",
    "\n",
    "load_next_tweet();\n",
    "</script>"
   ]
  },
  {
   "cell_type": "code",
   "execution_count": 23,
   "metadata": {},
   "outputs": [],
   "source": [
    "with open(classes_filename, 'w') as outf:\n",
    "    json.dump(labels, outf)"
   ]
  },
  {
   "cell_type": "code",
   "execution_count": null,
   "metadata": {},
   "outputs": [],
   "source": []
  }
 ],
 "metadata": {
  "kernelspec": {
   "display_name": "Python 3",
   "language": "python",
   "name": "python3"
  },
  "language_info": {
   "codemirror_mode": {
    "name": "ipython",
    "version": 3
   },
   "file_extension": ".py",
   "mimetype": "text/x-python",
   "name": "python",
   "nbconvert_exporter": "python",
   "pygments_lexer": "ipython3",
   "version": "3.6.5"
  }
 },
 "nbformat": 4,
 "nbformat_minor": 2
}
