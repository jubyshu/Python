{
 "cells": [
  {
   "cell_type": "code",
   "execution_count": 1,
   "metadata": {},
   "outputs": [],
   "source": [
    "import twitter\n",
    "\n",
    "consumer_key = 'm6zi84rb4ntlblHRxt5j1BNMd'\n",
    "consumer_secret = '4kVWQa4zeVpO8IaSJA2KgYyQc76prG1IVUjZK3TJtTGVRt1hhK'\n",
    "access_token = '3089587116-OYYvfhcVa5i7TFryYLtLzaztEe2nWn0NgnOtSLl'\n",
    "access_token_secret = 'qowPT3SjGEeSwYNS7pImnulv3Ltf4JOdeJSS6fesQntgW'\n",
    "authorization = twitter.OAuth(access_token, access_token_secret, consumer_key, consumer_secret)"
   ]
  },
  {
   "cell_type": "code",
   "execution_count": 2,
   "metadata": {},
   "outputs": [],
   "source": [
    "import os\n",
    "\n",
    "output_filename = os.path.join(os.path.expanduser('~'), 'Desktop', 'python_tweets.json')"
   ]
  },
  {
   "cell_type": "code",
   "execution_count": 5,
   "metadata": {},
   "outputs": [],
   "source": [
    "import json\n",
    "\n",
    "t = twitter.Twitter(auth=authorization)\n",
    "\n",
    "with open(output_filename, 'a') as output_file:\n",
    "    search_results = t.search.tweets(q='python', count=100)['statuses']\n",
    "    for tweet in search_results:\n",
    "        if 'text' in tweet:\n",
    "            output_file.write(json.dumps(tweet))\n",
    "            output_file.write('\\n\\n')"
   ]
  },
  {
   "cell_type": "code",
   "execution_count": null,
   "metadata": {},
   "outputs": [],
   "source": []
  }
 ],
 "metadata": {
  "kernelspec": {
   "display_name": "Python 3",
   "language": "python",
   "name": "python3"
  },
  "language_info": {
   "codemirror_mode": {
    "name": "ipython",
    "version": 3
   },
   "file_extension": ".py",
   "mimetype": "text/x-python",
   "name": "python",
   "nbconvert_exporter": "python",
   "pygments_lexer": "ipython3",
   "version": "3.6.5"
  }
 },
 "nbformat": 4,
 "nbformat_minor": 2
}
