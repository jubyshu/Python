{
 "cells": [
  {
   "cell_type": "code",
   "execution_count": 1,
   "metadata": {},
   "outputs": [
    {
     "data": {
      "text/html": [
       "<div>\n",
       "<style scoped>\n",
       "    .dataframe tbody tr th:only-of-type {\n",
       "        vertical-align: middle;\n",
       "    }\n",
       "\n",
       "    .dataframe tbody tr th {\n",
       "        vertical-align: top;\n",
       "    }\n",
       "\n",
       "    .dataframe thead th {\n",
       "        text-align: right;\n",
       "    }\n",
       "</style>\n",
       "<table border=\"1\" class=\"dataframe\">\n",
       "  <thead>\n",
       "    <tr style=\"text-align: right;\">\n",
       "      <th></th>\n",
       "      <th>UserID</th>\n",
       "      <th>MovieID</th>\n",
       "      <th>Rating</th>\n",
       "      <th>Datetime</th>\n",
       "    </tr>\n",
       "  </thead>\n",
       "  <tbody>\n",
       "    <tr>\n",
       "      <th>0</th>\n",
       "      <td>196</td>\n",
       "      <td>242</td>\n",
       "      <td>3</td>\n",
       "      <td>1997-12-04 15:55:49</td>\n",
       "    </tr>\n",
       "    <tr>\n",
       "      <th>1</th>\n",
       "      <td>186</td>\n",
       "      <td>302</td>\n",
       "      <td>3</td>\n",
       "      <td>1998-04-04 19:22:22</td>\n",
       "    </tr>\n",
       "    <tr>\n",
       "      <th>2</th>\n",
       "      <td>22</td>\n",
       "      <td>377</td>\n",
       "      <td>1</td>\n",
       "      <td>1997-11-07 07:18:36</td>\n",
       "    </tr>\n",
       "    <tr>\n",
       "      <th>3</th>\n",
       "      <td>244</td>\n",
       "      <td>51</td>\n",
       "      <td>2</td>\n",
       "      <td>1997-11-27 05:02:03</td>\n",
       "    </tr>\n",
       "    <tr>\n",
       "      <th>4</th>\n",
       "      <td>166</td>\n",
       "      <td>346</td>\n",
       "      <td>1</td>\n",
       "      <td>1998-02-02 05:33:16</td>\n",
       "    </tr>\n",
       "  </tbody>\n",
       "</table>\n",
       "</div>"
      ],
      "text/plain": [
       "   UserID  MovieID  Rating            Datetime\n",
       "0     196      242       3 1997-12-04 15:55:49\n",
       "1     186      302       3 1998-04-04 19:22:22\n",
       "2      22      377       1 1997-11-07 07:18:36\n",
       "3     244       51       2 1997-11-27 05:02:03\n",
       "4     166      346       1 1998-02-02 05:33:16"
      ]
     },
     "execution_count": 1,
     "metadata": {},
     "output_type": "execute_result"
    }
   ],
   "source": [
    "import pandas as pd\n",
    "\n",
    "filename = '/Users/juby/Desktop/ml-100k/u.data'\n",
    "data = pd.read_csv(filename, delimiter='\\t', header=None,\n",
    "                         names=['UserID', 'MovieID', 'Rating', 'Datetime'])\n",
    "data['Datetime'] = pd.to_datetime(data['Datetime'], unit='s')\n",
    "data.head()"
   ]
  },
  {
   "cell_type": "code",
   "execution_count": 2,
   "metadata": {},
   "outputs": [
    {
     "data": {
      "text/html": [
       "<div>\n",
       "<style scoped>\n",
       "    .dataframe tbody tr th:only-of-type {\n",
       "        vertical-align: middle;\n",
       "    }\n",
       "\n",
       "    .dataframe tbody tr th {\n",
       "        vertical-align: top;\n",
       "    }\n",
       "\n",
       "    .dataframe thead th {\n",
       "        text-align: right;\n",
       "    }\n",
       "</style>\n",
       "<table border=\"1\" class=\"dataframe\">\n",
       "  <thead>\n",
       "    <tr style=\"text-align: right;\">\n",
       "      <th></th>\n",
       "      <th>UserID</th>\n",
       "      <th>MovieID</th>\n",
       "      <th>Rating</th>\n",
       "      <th>Datetime</th>\n",
       "      <th>Favorable</th>\n",
       "    </tr>\n",
       "  </thead>\n",
       "  <tbody>\n",
       "    <tr>\n",
       "      <th>10</th>\n",
       "      <td>62</td>\n",
       "      <td>257</td>\n",
       "      <td>2</td>\n",
       "      <td>1997-11-12 22:07:14</td>\n",
       "      <td>False</td>\n",
       "    </tr>\n",
       "    <tr>\n",
       "      <th>11</th>\n",
       "      <td>286</td>\n",
       "      <td>1014</td>\n",
       "      <td>5</td>\n",
       "      <td>1997-11-17 15:38:45</td>\n",
       "      <td>True</td>\n",
       "    </tr>\n",
       "    <tr>\n",
       "      <th>12</th>\n",
       "      <td>200</td>\n",
       "      <td>222</td>\n",
       "      <td>5</td>\n",
       "      <td>1997-10-05 09:05:40</td>\n",
       "      <td>True</td>\n",
       "    </tr>\n",
       "    <tr>\n",
       "      <th>13</th>\n",
       "      <td>210</td>\n",
       "      <td>40</td>\n",
       "      <td>3</td>\n",
       "      <td>1998-03-27 21:59:54</td>\n",
       "      <td>False</td>\n",
       "    </tr>\n",
       "    <tr>\n",
       "      <th>14</th>\n",
       "      <td>224</td>\n",
       "      <td>29</td>\n",
       "      <td>3</td>\n",
       "      <td>1998-02-21 23:40:57</td>\n",
       "      <td>False</td>\n",
       "    </tr>\n",
       "  </tbody>\n",
       "</table>\n",
       "</div>"
      ],
      "text/plain": [
       "    UserID  MovieID  Rating            Datetime  Favorable\n",
       "10      62      257       2 1997-11-12 22:07:14      False\n",
       "11     286     1014       5 1997-11-17 15:38:45       True\n",
       "12     200      222       5 1997-10-05 09:05:40       True\n",
       "13     210       40       3 1998-03-27 21:59:54      False\n",
       "14     224       29       3 1998-02-21 23:40:57      False"
      ]
     },
     "execution_count": 2,
     "metadata": {},
     "output_type": "execute_result"
    }
   ],
   "source": [
    "# 确定用户是否喜欢某部电影\n",
    "data['Favorable'] = data['Rating'] > 3\n",
    "data[10:15]"
   ]
  },
  {
   "cell_type": "code",
   "execution_count": 3,
   "metadata": {},
   "outputs": [
    {
     "data": {
      "text/html": [
       "<div>\n",
       "<style scoped>\n",
       "    .dataframe tbody tr th:only-of-type {\n",
       "        vertical-align: middle;\n",
       "    }\n",
       "\n",
       "    .dataframe tbody tr th {\n",
       "        vertical-align: top;\n",
       "    }\n",
       "\n",
       "    .dataframe thead th {\n",
       "        text-align: right;\n",
       "    }\n",
       "</style>\n",
       "<table border=\"1\" class=\"dataframe\">\n",
       "  <thead>\n",
       "    <tr style=\"text-align: right;\">\n",
       "      <th></th>\n",
       "      <th>UserID</th>\n",
       "      <th>MovieID</th>\n",
       "      <th>Rating</th>\n",
       "      <th>Datetime</th>\n",
       "      <th>Favorable</th>\n",
       "    </tr>\n",
       "  </thead>\n",
       "  <tbody>\n",
       "    <tr>\n",
       "      <th>16</th>\n",
       "      <td>122</td>\n",
       "      <td>387</td>\n",
       "      <td>5</td>\n",
       "      <td>1997-11-11 17:47:39</td>\n",
       "      <td>True</td>\n",
       "    </tr>\n",
       "    <tr>\n",
       "      <th>20</th>\n",
       "      <td>119</td>\n",
       "      <td>392</td>\n",
       "      <td>4</td>\n",
       "      <td>1998-01-30 16:13:34</td>\n",
       "      <td>True</td>\n",
       "    </tr>\n",
       "    <tr>\n",
       "      <th>21</th>\n",
       "      <td>167</td>\n",
       "      <td>486</td>\n",
       "      <td>4</td>\n",
       "      <td>1998-04-16 14:54:12</td>\n",
       "      <td>True</td>\n",
       "    </tr>\n",
       "    <tr>\n",
       "      <th>26</th>\n",
       "      <td>38</td>\n",
       "      <td>95</td>\n",
       "      <td>5</td>\n",
       "      <td>1998-04-13 01:14:54</td>\n",
       "      <td>True</td>\n",
       "    </tr>\n",
       "    <tr>\n",
       "      <th>28</th>\n",
       "      <td>63</td>\n",
       "      <td>277</td>\n",
       "      <td>4</td>\n",
       "      <td>1997-10-01 23:10:01</td>\n",
       "      <td>True</td>\n",
       "    </tr>\n",
       "  </tbody>\n",
       "</table>\n",
       "</div>"
      ],
      "text/plain": [
       "    UserID  MovieID  Rating            Datetime  Favorable\n",
       "16     122      387       5 1997-11-11 17:47:39       True\n",
       "20     119      392       4 1998-01-30 16:13:34       True\n",
       "21     167      486       4 1998-04-16 14:54:12       True\n",
       "26      38       95       5 1998-04-13 01:14:54       True\n",
       "28      63      277       4 1997-10-01 23:10:01       True"
      ]
     },
     "execution_count": 3,
     "metadata": {},
     "output_type": "execute_result"
    }
   ],
   "source": [
    "# 选取前200名用户的打分数据\n",
    "ratings = data[data['UserID'].isin(range(200))]\n",
    "# 用户喜欢某部电影的数据集\n",
    "favorable_ratings = ratings[ratings['Favorable']]\n",
    "favorable_ratings.head()"
   ]
  },
  {
   "cell_type": "code",
   "execution_count": 4,
   "metadata": {},
   "outputs": [
    {
     "data": {
      "text/plain": [
       "199"
      ]
     },
     "execution_count": 4,
     "metadata": {},
     "output_type": "execute_result"
    }
   ],
   "source": [
    "# 每个用户喜欢的电影\n",
    "favorable_reviews_by_users = dict((k, frozenset(v.values)) \n",
    "                                  for k, v in favorable_ratings.groupby('UserID')['MovieID'])\n",
    "len(favorable_reviews_by_users)"
   ]
  },
  {
   "cell_type": "code",
   "execution_count": 5,
   "metadata": {},
   "outputs": [
    {
     "data": {
      "text/html": [
       "<div>\n",
       "<style scoped>\n",
       "    .dataframe tbody tr th:only-of-type {\n",
       "        vertical-align: middle;\n",
       "    }\n",
       "\n",
       "    .dataframe tbody tr th {\n",
       "        vertical-align: top;\n",
       "    }\n",
       "\n",
       "    .dataframe thead th {\n",
       "        text-align: right;\n",
       "    }\n",
       "</style>\n",
       "<table border=\"1\" class=\"dataframe\">\n",
       "  <thead>\n",
       "    <tr style=\"text-align: right;\">\n",
       "      <th></th>\n",
       "      <th>Favorable</th>\n",
       "    </tr>\n",
       "    <tr>\n",
       "      <th>MovieID</th>\n",
       "      <th></th>\n",
       "    </tr>\n",
       "  </thead>\n",
       "  <tbody>\n",
       "    <tr>\n",
       "      <th>50</th>\n",
       "      <td>100.0</td>\n",
       "    </tr>\n",
       "    <tr>\n",
       "      <th>100</th>\n",
       "      <td>89.0</td>\n",
       "    </tr>\n",
       "    <tr>\n",
       "      <th>258</th>\n",
       "      <td>83.0</td>\n",
       "    </tr>\n",
       "    <tr>\n",
       "      <th>181</th>\n",
       "      <td>79.0</td>\n",
       "    </tr>\n",
       "    <tr>\n",
       "      <th>174</th>\n",
       "      <td>74.0</td>\n",
       "    </tr>\n",
       "  </tbody>\n",
       "</table>\n",
       "</div>"
      ],
      "text/plain": [
       "         Favorable\n",
       "MovieID           \n",
       "50           100.0\n",
       "100           89.0\n",
       "258           83.0\n",
       "181           79.0\n",
       "174           74.0"
      ]
     },
     "execution_count": 5,
     "metadata": {},
     "output_type": "execute_result"
    }
   ],
   "source": [
    "# 每部电影的影迷数量\n",
    "num_favorable_by_movies = ratings[['MovieID', 'Favorable']].groupby('MovieID').sum()\n",
    "num_favorable_by_movies.sort_values('Favorable', ascending=False)[:5]"
   ]
  },
  {
   "cell_type": "code",
   "execution_count": 6,
   "metadata": {},
   "outputs": [],
   "source": [
    "# 创建函数，接受新发现的频繁项集，创建超集，检测频繁程度\n",
    "from collections import defaultdict\n",
    "def find_frequent_itemsets(favorable_reviews_by_users, k_1_itemsets, min_support):\n",
    "    counts = defaultdict(int)\n",
    "    # 遍历所有用户和他们的打分数据\n",
    "    for user, reviews in favorable_reviews_by_users.items():\n",
    "        # 遍历已找出的项集，判断是否为当前评分项集的子集\n",
    "        for itemset in k_1_itemsets:\n",
    "            if itemset.issubset(reviews):\n",
    "                # 遍历用户打过分却没有出现项集里的电影，用它们生成超集，\n",
    "                # 并更新该项集的计数\n",
    "                for other_reviewed_movies in reviews - itemset:\n",
    "                    current_superset = itemset | frozenset((other_reviewed_movies,))\n",
    "                    counts[current_superset] += 1\n",
    "    # 返回符合频繁程度的频繁项集\n",
    "    return dict([(itemset, frequency) for itemset, frequency in counts.items()\n",
    "                if frequency >= min_support])"
   ]
  },
  {
   "cell_type": "code",
   "execution_count": 7,
   "metadata": {},
   "outputs": [
    {
     "name": "stdout",
     "output_type": "stream",
     "text": [
      "There are 16 movies with more than 50 favorable reviews:\n",
      "I found 93 frequent itemsets of length 2\n",
      "I found 295 frequent itemsets of length 3\n",
      "I found 593 frequent itemsets of length 4\n",
      "I found 785 frequent itemsets of length 5\n",
      "I found 677 frequent itemsets of length 6\n",
      "I found 373 frequent itemsets of length 7\n",
      "I found 126 frequent itemsets of length 8\n",
      "I found 24 frequent itemsets of length 9\n",
      "I found 2 frequent itemsets of length 10\n",
      "Did not find any frequent itemsets of length 11\n"
     ]
    }
   ],
   "source": [
    "import sys\n",
    "# 把发现的频繁项集保存到以项集长度为键的字典中\n",
    "frequent_itemsets = {}\n",
    "min_support = 50\n",
    "# 为每部电影生成只包含自己的项集\n",
    "frequent_itemsets[1] = dict((frozenset((movie_id,)), row['Favorable'])\n",
    "                           for movie_id, row in num_favorable_by_movies.iterrows()\n",
    "                           if row['Favorable'] > min_support)\n",
    "print('There are %d movies with more than %d favorable reviews:' % (len(frequent_itemsets[1]),\n",
    "                                                                    min_support))\n",
    "sys.stdout.flush()\n",
    "# 创建循环，运行Apriori算法，存储新发现的项集\n",
    "for k in range(2, 20):\n",
    "    cur_frequent_itemsets = find_frequent_itemsets(favorable_reviews_by_users,\n",
    "                                                   frequent_itemsets[k-1],\n",
    "                                                   min_support)\n",
    "    frequent_itemsets[k] = cur_frequent_itemsets\n",
    "    if len(cur_frequent_itemsets) == 0:\n",
    "        print('Did not find any frequent itemsets of length %d' % k)\n",
    "        # 确保代码还在运行时，将缓冲区内容输出到终端\n",
    "        sys.stdout.flush()\n",
    "        break\n",
    "    else:\n",
    "        print('I found %d frequent itemsets of length %d' % (len(cur_frequent_itemsets), k))\n",
    "        sys.stdout.flush()\n",
    "del frequent_itemsets[1]"
   ]
  },
  {
   "cell_type": "code",
   "execution_count": 8,
   "metadata": {},
   "outputs": [
    {
     "name": "stdout",
     "output_type": "stream",
     "text": [
      "Find a total of 2968 frequent itemsets\n"
     ]
    }
   ],
   "source": [
    "print('Find a total of %d frequent itemsets' % (sum(len(itemsets)\n",
    "                                                   for itemsets in frequent_itemsets.values())))"
   ]
  },
  {
   "cell_type": "code",
   "execution_count": 9,
   "metadata": {},
   "outputs": [
    {
     "name": "stdout",
     "output_type": "stream",
     "text": [
      "dict_items([(frozenset({1, 7}), 62), (frozenset({1, 50}), 100), (frozenset({56, 1}), 64), (frozenset({64, 1}), 60), (frozenset({1, 79}), 62), (frozenset({1, 98}), 72), (frozenset({1, 100}), 84), (frozenset({1, 127}), 66), (frozenset({1, 172}), 60), (frozenset({1, 174}), 82), (frozenset({1, 181}), 76), (frozenset({9, 7}), 50), (frozenset({50, 7}), 94), (frozenset({56, 7}), 78), (frozenset({64, 7}), 64), (frozenset({79, 7}), 68), (frozenset({98, 7}), 74), (frozenset({100, 7}), 94), (frozenset({127, 7}), 58), (frozenset({172, 7}), 70), (frozenset({174, 7}), 78), (frozenset({181, 7}), 72), (frozenset({258, 7}), 68), (frozenset({9, 50}), 70), (frozenset({56, 9}), 60), (frozenset({64, 9}), 58), (frozenset({9, 98}), 58), (frozenset({9, 100}), 78), (frozenset({9, 127}), 66), (frozenset({9, 174}), 54), (frozenset({9, 181}), 52), (frozenset({56, 50}), 92), (frozenset({64, 50}), 82), (frozenset({50, 79}), 84), (frozenset({50, 98}), 96), (frozenset({50, 100}), 110), (frozenset({50, 127}), 102), (frozenset({50, 172}), 108), (frozenset({50, 174}), 128), (frozenset({50, 181}), 138), (frozenset({50, 258}), 86), (frozenset({56, 64}), 76), (frozenset({56, 79}), 74), (frozenset({56, 98}), 96), (frozenset({56, 100}), 98), (frozenset({56, 127}), 74), (frozenset({56, 172}), 74), (frozenset({56, 174}), 98), (frozenset({56, 181}), 68), (frozenset({56, 258}), 64), (frozenset({64, 79}), 68), (frozenset({64, 98}), 86), (frozenset({64, 100}), 74), (frozenset({64, 127}), 62), (frozenset({64, 172}), 66), (frozenset({64, 174}), 80), (frozenset({64, 181}), 68), (frozenset({64, 258}), 50), (frozenset({98, 79}), 76), (frozenset({100, 79}), 68), (frozenset({127, 79}), 54), (frozenset({172, 79}), 68), (frozenset({174, 79}), 92), (frozenset({181, 79}), 70), (frozenset({258, 79}), 54), (frozenset({98, 100}), 88), (frozenset({98, 127}), 64), (frozenset({98, 172}), 78), (frozenset({98, 174}), 94), (frozenset({98, 181}), 68), (frozenset({98, 258}), 62), (frozenset({100, 127}), 96), (frozenset({172, 100}), 64), (frozenset({100, 174}), 84), (frozenset({100, 181}), 78), (frozenset({258, 100}), 70), (frozenset({172, 127}), 60), (frozenset({174, 127}), 78), (frozenset({181, 127}), 74), (frozenset({258, 127}), 56), (frozenset({172, 174}), 104), (frozenset({172, 181}), 92), (frozenset({258, 172}), 56), (frozenset({181, 174}), 104), (frozenset({258, 174}), 66), (frozenset({258, 181}), 78), (frozenset({50, 286}), 58), (frozenset({313, 50}), 58), (frozenset({100, 286}), 62), (frozenset({313, 100}), 60), (frozenset({286, 127}), 50), (frozenset({313, 181}), 62), (frozenset({313, 258}), 70)])\n"
     ]
    }
   ],
   "source": [
    "print(frequent_itemsets[2].items())"
   ]
  },
  {
   "cell_type": "code",
   "execution_count": 10,
   "metadata": {},
   "outputs": [
    {
     "name": "stdout",
     "output_type": "stream",
     "text": [
      "There are 15285 candidate rules\n",
      "[(frozenset({7}), 1), (frozenset({1}), 7), (frozenset({50}), 1), (frozenset({1}), 50), (frozenset({1}), 56)]\n"
     ]
    }
   ],
   "source": [
    "# 从频繁项集中抽取关联规则\n",
    "# 关联规则由前提和结论构成\n",
    "\n",
    "#遍历不同长度的频繁项集，为每个项集生成规则\n",
    "candidate_rules = []\n",
    "for itemset_length, itemset_counts in frequent_itemsets.items():\n",
    "    for itemset in itemset_counts.keys():\n",
    "        # 遍历每一项电影，将其作为结论\n",
    "        for conclusion in itemset:\n",
    "            premise = itemset - set((conclusion,))\n",
    "            candidate_rules.append((premise,conclusion))\n",
    "print('There are %d candidate rules' % len(candidate_rules))\n",
    "print(candidate_rules[:5])"
   ]
  },
  {
   "cell_type": "code",
   "execution_count": 11,
   "metadata": {},
   "outputs": [],
   "source": [
    "# 计算置信度\n",
    "# 存储规则应验和规则无效次数的字典\n",
    "correct_counts = defaultdict(int)\n",
    "incorrect_counts = defaultdict(int)\n",
    "# 遍历所有用户及其喜欢的电影\n",
    "for user, reviews in favorable_reviews_by_users.items():\n",
    "    # 遍历每条关联规则\n",
    "    for candidate_rule in candidate_rules:\n",
    "        premise, conclusion = candidate_rule\n",
    "        # 测试每条规则的前提是否对用户适用\n",
    "        if premise.issubset(reviews):\n",
    "            # 测试用户是否喜欢结论中的电影\n",
    "            if conclusion in reviews:\n",
    "                correct_counts[candidate_rule] += 1\n",
    "            else:\n",
    "                incorrect_counts[candidate_rule] += 1\n",
    "# 置信度\n",
    "rule_confidence = {candidate_rule: correct_counts[candidate_rule]\n",
    "                  / float(correct_counts[candidate_rule] +\n",
    "                         incorrect_counts[candidate_rule])\n",
    "                  for candidate_rule in candidate_rules}"
   ]
  },
  {
   "cell_type": "code",
   "execution_count": 12,
   "metadata": {},
   "outputs": [
    {
     "data": {
      "text/plain": [
       "5152"
      ]
     },
     "execution_count": 12,
     "metadata": {},
     "output_type": "execute_result"
    }
   ],
   "source": [
    "min_confidence = 0.9\n",
    "rule_confidence = {rule: confidence for rule, confidence in rule_confidence.items()\n",
    "                  if confidence > min_confidence}\n",
    "len(rule_confidence)"
   ]
  },
  {
   "cell_type": "code",
   "execution_count": 13,
   "metadata": {},
   "outputs": [
    {
     "name": "stdout",
     "output_type": "stream",
     "text": [
      "Rule #1\n",
      "Rule: If a person recommends frozenset({98, 181}) they will also recommend 50\n",
      " - Confidence: 1.000\n",
      "\n",
      "Rule #2\n",
      "Rule: If a person recommends frozenset({172, 79}) they will also recommend 174\n",
      " - Confidence: 1.000\n",
      "\n",
      "Rule #3\n",
      "Rule: If a person recommends frozenset({258, 172}) they will also recommend 174\n",
      " - Confidence: 1.000\n",
      "\n",
      "Rule #4\n",
      "Rule: If a person recommends frozenset({1, 181, 7}) they will also recommend 50\n",
      " - Confidence: 1.000\n",
      "\n",
      "Rule #5\n",
      "Rule: If a person recommends frozenset({1, 172, 7}) they will also recommend 174\n",
      " - Confidence: 1.000\n",
      "\n"
     ]
    }
   ],
   "source": [
    "# 对置信度字典进行排序\n",
    "# 输出置信度最高的前5条规则\n",
    "from operator import itemgetter\n",
    "sorted_confidence = sorted(rule_confidence.items(), key=itemgetter(1), reverse=True)\n",
    "for index in range(5):\n",
    "    print('Rule #%d' % (index + 1))\n",
    "    (premise, conclusion) = sorted_confidence[index][0]\n",
    "    print('Rule: If a person recommends %s they will also recommend %d'\n",
    "         % (premise, conclusion))\n",
    "    print(' - Confidence: %.3f' % rule_confidence[(premise, conclusion)])\n",
    "    print('')"
   ]
  },
  {
   "cell_type": "code",
   "execution_count": 14,
   "metadata": {},
   "outputs": [],
   "source": [
    "# 读取电影名称信息文件\n",
    "filename2 = '/Users/juby/Desktop/ml-100k/u.item'\n",
    "moviename_data = pd.read_csv(filename2, delimiter='|', header=None, encoding='mac-roman')\n",
    "moviename_data.columns = ['MovieID', 'Title', 'Release Date', 'Video Release', 'IMDB',\n",
    "                         '<UNK>', 'Action', 'Adventure','Animation', 'Children\\'s', 'Comedy',\n",
    "                         'Crime', \"Documentary\", \"Drama\", \"Fantasy\", \"Film-Noir\",\n",
    "                         'Horror', 'Musical', 'Mystery', 'Romance', 'Sci-Fi', 'Thriller',\n",
    "                         'War', 'Western']"
   ]
  },
  {
   "cell_type": "code",
   "execution_count": 15,
   "metadata": {},
   "outputs": [
    {
     "data": {
      "text/plain": [
       "'Get Shorty (1995)'"
      ]
     },
     "execution_count": 15,
     "metadata": {},
     "output_type": "execute_result"
    }
   ],
   "source": [
    "# 创建函数，用电影编号获取电影名称\n",
    "def get_movie_name(movie_id):\n",
    "    title_object = moviename_data[moviename_data['MovieID'] == movie_id]['Title']\n",
    "    # 获取电影名称，而不是Series对象\n",
    "    title = title_object.values[0]\n",
    "    return title\n",
    "get_movie_name(4)"
   ]
  },
  {
   "cell_type": "code",
   "execution_count": 16,
   "metadata": {},
   "outputs": [
    {
     "name": "stdout",
     "output_type": "stream",
     "text": [
      "Rule #1\n",
      "Rule: If a person recommends Silence of the Lambs, The (1991), Return of the Jedi (1983) they will also recommend Star Wars (1977)\n",
      " - Confidence: 1.000\n",
      "\n",
      "Rule #2\n",
      "Rule: If a person recommends Empire Strikes Back, The (1980), Fugitive, The (1993) they will also recommend Raiders of the Lost Ark (1981)\n",
      " - Confidence: 1.000\n",
      "\n",
      "Rule #3\n",
      "Rule: If a person recommends Contact (1997), Empire Strikes Back, The (1980) they will also recommend Raiders of the Lost Ark (1981)\n",
      " - Confidence: 1.000\n",
      "\n",
      "Rule #4\n",
      "Rule: If a person recommends Toy Story (1995), Return of the Jedi (1983), Twelve Monkeys (1995) they will also recommend Star Wars (1977)\n",
      " - Confidence: 1.000\n",
      "\n",
      "Rule #5\n",
      "Rule: If a person recommends Toy Story (1995), Empire Strikes Back, The (1980), Twelve Monkeys (1995) they will also recommend Raiders of the Lost Ark (1981)\n",
      " - Confidence: 1.000\n",
      "\n"
     ]
    }
   ],
   "source": [
    "for index in range(5):\n",
    "    print('Rule #%d' % (index + 1))\n",
    "    (premise, conclusion) = sorted_confidence[index][0]\n",
    "    premise_names = ', '.join(get_movie_name(idx) for idx in premise)\n",
    "    conclusion_name = get_movie_name(conclusion)\n",
    "    print('Rule: If a person recommends %s they will also recommend %s'\n",
    "         % (premise_names, conclusion_name))\n",
    "    print(' - Confidence: %.3f' % rule_confidence[(premise, conclusion)])\n",
    "    print('')"
   ]
  },
  {
   "cell_type": "code",
   "execution_count": 17,
   "metadata": {},
   "outputs": [],
   "source": [
    "# 在测试集中\n",
    "# 获取每一位用户最喜欢的电影\n",
    "test_dataset = data[~data['UserID'].isin(range(200))]\n",
    "test_favorable = test_dataset[test_dataset['Favorable']]\n",
    "test_favorable_by_users = dict((k, frozenset(v.values))\n",
    "                               for k, v in test_favorable.groupby('UserID')['MovieID'])"
   ]
  },
  {
   "cell_type": "code",
   "execution_count": 24,
   "metadata": {},
   "outputs": [
    {
     "name": "stdout",
     "output_type": "stream",
     "text": [
      "5152\n"
     ]
    }
   ],
   "source": [
    "# 使用测试数据计算规则应验数量\n",
    "correct_counts = defaultdict(int)\n",
    "incorrect_counts = defaultdict(int)\n",
    "for user, reviews in test_favorable_by_users.items():\n",
    "    for candidate_rule in candidate_rules:\n",
    "        premise, conclusion = candidate_rule\n",
    "        if premise.issubset(reviews):\n",
    "            if conclusion in reviews:\n",
    "                correct_counts[candidate_rule] += 1\n",
    "            else:\n",
    "                incorrect_counts[candidate_rule] += 1\n",
    "# 计算所有应验规则的置信度\n",
    "test_confidence = {candidate_rule: correct_counts[candidate_rule] /\n",
    "                   float(correct_counts[candidate_rule] + incorrect_counts[candidate_rule])\n",
    "                   for candidate_rule in rule_confidence}\n",
    "print(len(test_confidence))"
   ]
  },
  {
   "cell_type": "code",
   "execution_count": 25,
   "metadata": {},
   "outputs": [
    {
     "data": {
      "text/plain": [
       "[((frozenset({1, 7, 50, 64, 79}), 174), 1.0),\n",
       " ((frozenset({1, 7, 64, 79, 98}), 174), 1.0),\n",
       " ((frozenset({1, 7, 64, 79, 172}), 174), 1.0),\n",
       " ((frozenset({1, 7, 64, 79, 181}), 174), 1.0),\n",
       " ((frozenset({1, 56, 64, 79, 172}), 174), 1.0)]"
      ]
     },
     "execution_count": 25,
     "metadata": {},
     "output_type": "execute_result"
    }
   ],
   "source": [
    "sorted_test_confidence = sorted(test_confidence.items(), key=itemgetter(1), reverse=True)\n",
    "sorted_test_confidence[:5]"
   ]
  },
  {
   "cell_type": "code",
   "execution_count": 27,
   "metadata": {},
   "outputs": [
    {
     "name": "stdout",
     "output_type": "stream",
     "text": [
      "Rule #1\n",
      "Rule: If a person recommends Toy Story (1995), Empire Strikes Back, The (1980), Twelve Monkeys (1995) they will also recommend Star Wars (1977)\n",
      " - Train Confidence: 1.000\n",
      " - Test Confidence: 0.936\n",
      "\n",
      "Rule #2\n",
      "Rule: If a person recommends Toy Story (1995), Empire Strikes Back, The (1980), Twelve Monkeys (1995) they will also recommend Raiders of the Lost Ark (1981)\n",
      " - Train Confidence: 1.000\n",
      " - Test Confidence: 0.876\n",
      "\n",
      "Rule #3\n",
      "Rule: If a person recommends Toy Story (1995), Empire Strikes Back, The (1980), Twelve Monkeys (1995) they will also recommend Raiders of the Lost Ark (1981)\n",
      " - Train Confidence: 1.000\n",
      " - Test Confidence: 0.841\n",
      "\n",
      "Rule #4\n",
      "Rule: If a person recommends Toy Story (1995), Empire Strikes Back, The (1980), Twelve Monkeys (1995) they will also recommend Star Wars (1977)\n",
      " - Train Confidence: 1.000\n",
      " - Test Confidence: 0.932\n",
      "\n",
      "Rule #5\n",
      "Rule: If a person recommends Toy Story (1995), Empire Strikes Back, The (1980), Twelve Monkeys (1995) they will also recommend Raiders of the Lost Ark (1981)\n",
      " - Train Confidence: 1.000\n",
      " - Test Confidence: 0.903\n",
      "\n",
      "Rule #6\n",
      "Rule: If a person recommends Toy Story (1995), Empire Strikes Back, The (1980), Twelve Monkeys (1995) they will also recommend Raiders of the Lost Ark (1981)\n",
      " - Train Confidence: 1.000\n",
      " - Test Confidence: 0.816\n",
      "\n",
      "Rule #7\n",
      "Rule: If a person recommends Toy Story (1995), Empire Strikes Back, The (1980), Twelve Monkeys (1995) they will also recommend Star Wars (1977)\n",
      " - Train Confidence: 1.000\n",
      " - Test Confidence: 0.970\n",
      "\n",
      "Rule #8\n",
      "Rule: If a person recommends Toy Story (1995), Empire Strikes Back, The (1980), Twelve Monkeys (1995) they will also recommend Star Wars (1977)\n",
      " - Train Confidence: 1.000\n",
      " - Test Confidence: 0.933\n",
      "\n",
      "Rule #9\n",
      "Rule: If a person recommends Toy Story (1995), Empire Strikes Back, The (1980), Twelve Monkeys (1995) they will also recommend Star Wars (1977)\n",
      " - Train Confidence: 1.000\n",
      " - Test Confidence: 0.971\n",
      "\n",
      "Rule #10\n",
      "Rule: If a person recommends Toy Story (1995), Empire Strikes Back, The (1980), Twelve Monkeys (1995) they will also recommend Silence of the Lambs, The (1991)\n",
      " - Train Confidence: 1.000\n",
      " - Test Confidence: 0.794\n",
      "\n"
     ]
    }
   ],
   "source": [
    "for index in range(10):\n",
    "    print('Rule #%d' % (index + 1))\n",
    "    (premise, conclusion) = sorted_confidence[index][0]\n",
    "    premise_name = ', '.join(get_movie_name(idx) for idx in premise)\n",
    "    conclusion_name = get_movie_name(conclusion)\n",
    "    print('Rule: If a person recommends %s they will also recommend %s'\n",
    "         % (premise_names, conclusion_name))\n",
    "    print(' - Train Confidence: %.3f' % rule_confidence.get((premise, conclusion), -1))\n",
    "    print(' - Test Confidence: %.3f' % test_confidence.get((premise, conclusion), -1))\n",
    "    print('')"
   ]
  },
  {
   "cell_type": "code",
   "execution_count": null,
   "metadata": {},
   "outputs": [],
   "source": []
  }
 ],
 "metadata": {
  "kernelspec": {
   "display_name": "Python 3",
   "language": "python",
   "name": "python3"
  },
  "language_info": {
   "codemirror_mode": {
    "name": "ipython",
    "version": 3
   },
   "file_extension": ".py",
   "mimetype": "text/x-python",
   "name": "python",
   "nbconvert_exporter": "python",
   "pygments_lexer": "ipython3",
   "version": "3.6.5"
  }
 },
 "nbformat": 4,
 "nbformat_minor": 2
}
